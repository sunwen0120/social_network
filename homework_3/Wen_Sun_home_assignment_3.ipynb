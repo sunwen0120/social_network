{
 "cells": [
  {
   "cell_type": "markdown",
   "metadata": {},
   "source": [
    "Social Networks SS21\n",
    "\n",
    "# Home Assignment 3\n",
    "\n"
   ]
  },
  {
   "cell_type": "markdown",
   "metadata": {},
   "source": [
    "### General Instructions\n",
    "\n",
    "Submit your solution via Moodle until 23.59pm on Monday, June 28th.\n",
    "Late submissions are accepted for 12 hours following the deadline, with 1/4 of the total possible points deducted from the score.\n",
    "\n",
    "Submit your solutions in teams of 2-4 members.\n",
    "Please denote all members of the team with their student ID and full name in the notebook.\n",
    "Please submit only one notebook per team.\n",
    "Only submit a notebook, do not submit the datasets you used or image files that you have created - these have to be created from your notebook.\n",
    "Also, do NOT compress/zip your submission!\n",
    "\n",
    "Cite ALL your sources for coding this home assignment.\n",
    "In case of plagiarism (copying solutions from other teams or from the internet), ALL team members will be expelled from the course without warning.\n",
    "\n",
    "\n",
    "### Evaluation and Grading\n",
    "\n",
    "Evaluation of your submission is done semi-automatically.\n",
    "Think of it as this notebook being executed once.\n",
    "Afterwards, some test functions are appended to this file and executed respectively.\n",
    "\n",
    "Therefore:\n",
    "* Submit valid _Python3_ code only!\n",
    "* Make sure to restrict yourself to using packages that are automatically installed along with anaconda, plus some additional packages that have been introduced in context of this class. An overview of packages that may be used in this assignment can be found in the file 'environment.yaml'.\n",
    "* Ensure your definitions (functions, classes, methods, variables) follow the specification if\n",
    "  given. The concrete signature and header of a function is usually specified in the task description and via code skeletons.\n",
    "* Again, make sure that all your function as well as variable names match with what we have specified! The automated grading will only match these exact names, and everything that can not be matched will not be graded.\n",
    "* Whenever there is a written task, e.g. task 1b), enter your answer in the specified markdown cell. Do NOT remove or edit the label (e.g. '__A1b):__' ) from the markdown cell, as this will have to be parsed by the grading system and matched to your answer. \n",
    "* Ensure the notebook does not rely on current notebook or system state!\n",
    "  * Use `Kernel --> Restart & Run All` to see if you are using any definitions, variables etc. that \n",
    "    are not in scope anymore.\n",
    "  * Do not rename any of the datasets you use, and load it from the same directory that your ipynb-notebook is located in, i.e., your working directory. In particular, when loading your file, make sure that it has the form `nx.read_edgelist(\"example.edgelist\")` instead of `nx.read_edgelist(\"C:/User/Path/to/your/Homework/example.edgelist\")` so that the code directly works from our machines.\n",
    "* Make sure that your code is executable, any task for which the code does not directly run on our machine will be graded with 0 points. Run your notebook from top to bottom, make sure there is no error!\n",
    "  Minimize usage of global variables. Do not reuse variable names multiple times!\n",
    "* Ensure your code/notebook terminates in reasonable time.\n",
    "* Textual answers must always be backed by code and may not refer to results that are not part of\n",
    "  your submission.\n",
    "\n",
    "\n",
    "**There's a story behind each of these points! Don't expect us to fix your stuff!**"
   ]
  },
  {
   "cell_type": "markdown",
   "metadata": {},
   "source": [
    "##### List team members, including all student IDs, in the cell below:"
   ]
  },
  {
   "cell_type": "code",
   "execution_count": 1,
   "metadata": {},
   "outputs": [],
   "source": [
    "# credentials of all team members (you may add or remove items from the list)\n",
    "team_members = [\n",
    "    {\n",
    "        'first_name': 'Alice',\n",
    "        'last_name': 'Foo',\n",
    "        'student_id': 12345\n",
    "    },\n",
    "    {\n",
    "        'first_name': 'Bob',\n",
    "        'last_name': 'Bar',\n",
    "        'student_id': 54321\n",
    "    },\n",
    "    {\n",
    "        'first_name': 'J',\n",
    "        'last_name': 'Doe',\n",
    "        'student_id': 90000\n",
    "    }\n",
    "]"
   ]
  },
  {
   "cell_type": "code",
   "execution_count": 2,
   "metadata": {},
   "outputs": [],
   "source": [
    "# general immports may go here!\n",
    "import networkx as nx\n",
    "import numpy as np\n",
    "import matplotlib.pyplot as plt\n",
    "import math\n",
    "from typing import List, Optional, Tuple, Dict\n",
    "import sys"
   ]
  },
  {
   "cell_type": "markdown",
   "metadata": {},
   "source": [
    "### The Hamsterster Network\n",
    "\n",
    "In this home assignment we will conduct some analysis of the Hamsterster Network, next to a number of simulations. This network contains friendships and family links between users of the website hamsterster.com, which was an online social network of hamster owners and is now shut down. \n",
    "The network data has been taken from the KONECT repository, and consists of multiple data files. For simplicity, we will only consider the biggest connected component of the network.\n",
    "\n",
    "__References:__  \n",
    "[1] Jérôme Kunegis. KONECT - The Koblenz Network Collection. In Proc. Int. Web Observatory Workshop, pages 1343-1350, 2013  \n",
    "[2] Hamsterster full network dataset -- KONECT, April 2017. [ http://konect.cc/networks/petster-hamster/ ]"
   ]
  },
  {
   "cell_type": "markdown",
   "metadata": {},
   "source": [
    "### Task 1:  Analyzing the Hamsterster Network (22 pts)\n",
    "\n",
    "\n",
    "#### a) Loading the Network (5 pts)\n",
    "The information of the network is stored in multiple files, where one file contains the edges in the network, and one file contains node attributes. Next to the edges, some of the attributes are also of particular interest for us, namely \n",
    "the hamster's  \n",
    "(1) gender,  \n",
    "(2) species (divided into Hamster and Gerbil),  \n",
    "(3) home country (divided into either USA or others).\n",
    "\n",
    "Read in the Hamsterster Network from the datasets that we have provided. In particular, join the information regarding the edges with the desired information regarding the three node attributes in a graph ``G``. Save the three node attributes in ``G`` using attribute names ``'gender'``, ``'species'`` and ``'home'``. Only use attribute values ``'male'`` and ``'female'`` for the gender, ``'hamster'`` and ``'gerbil'`` for the species and ``'usa'`` and ``'other'`` for the home country (do not use upper case letters in the attribute names and values). \n",
    "\n",
    "After reading in the full network data, delete all nodes from ``G`` which do not belong to its biggest connected component. Do NOT reindex the nodes though! In the end, save the (new) numbers of nodes and edges of ``G`` in ``n_nodes`` and ``n_edges``. Save the attribute values of node 1 in a dictionary ``sample_attr`` with format ``{'gender': 'VALUE1', 'species': 'VALUE2', 'home': 'VALUE3'}`` .\n",
    "\n",
    "_Hint: Note that for the species and home country, you can **not** directly take the values from the data file, you have to preprocess them first. Additionally, make sure to transform upper to lower case letters (also for gender)._\n",
    "\n",
    "**Important: Make sure that you do not modify ``G`` anymore in the following tasks (especially in task 3), i.e. create copies before modifying the graph.**"
   ]
  },
  {
   "cell_type": "code",
   "execution_count": 3,
   "metadata": {},
   "outputs": [],
   "source": [
    "# G = ... # at the end of subtask 1a), G should only contain the biggest connected component\n",
    "\n",
    "n_nodes = ...\n",
    "n_edges = ...\n",
    "sample_attr = {'gender': ..., 'species': ..., 'home': ...}"
   ]
  },
  {
   "cell_type": "markdown",
   "metadata": {},
   "source": [
    "#### b) Basic Network Analysis (3 pts)\n",
    "\n",
    "Conduct a basic network analysis of ``G``, i.e. compute the network's density, the average path length, the diameter and its average clustering coefficient. Store the results in ``density``, ``avg_pl``, ``diameter`` and ``avg_cc``. Plot the degree distribution and save it as **'dd.png'**. Do not remove the lines of your code which create and save your .png file.\n",
    "\n",
    "Does the network display the properties that you would typically expect from a social network?"
   ]
  },
  {
   "cell_type": "code",
   "execution_count": 4,
   "metadata": {},
   "outputs": [],
   "source": [
    "density = ...\n",
    "avg_pl = ...\n",
    "diameter = ...\n",
    "avg_cc = ..."
   ]
  },
  {
   "cell_type": "markdown",
   "metadata": {},
   "source": [
    "**A1b):** _Please provide your answer regarding your observations here!_"
   ]
  },
  {
   "cell_type": "markdown",
   "metadata": {},
   "source": [
    "#### c) Analyzing Assortativity (3 pts)\n",
    "\n",
    "Compute the network's degree assortativity coefficient and store it in a variable ``dac``. Plot the average degree correlation $k_{nn}(k)$ against $k$ and save the plot as **'adc.png'**! Do not remove the lines of your code which create and save your .png file.\n",
    "\n",
    "Would you say that this network is assortative, disassortative, or rather neutral? Does the result coincide with what is typically observed in social networks?"
   ]
  },
  {
   "cell_type": "code",
   "execution_count": 5,
   "metadata": {},
   "outputs": [],
   "source": [
    "dac = ..."
   ]
  },
  {
   "cell_type": "markdown",
   "metadata": {},
   "source": [
    "**A1c):** _Please provide your answer regarding your observations here!_"
   ]
  },
  {
   "cell_type": "markdown",
   "metadata": {},
   "source": [
    "#### d) Analyzing Homophily (3 pts)\n",
    "\n",
    "We want to compute the network's homophily with respect to the hamster's  \n",
    "(1) gender,  \n",
    "(2) species (divided into Hamster and Gerbil),  \n",
    "(3) home country (divided into either USA or others),  \n",
    "i.e., the attributes that have been read in a).\n",
    "\n",
    "\n",
    "For each of these three attributes:   \n",
    "(i) measure the homophily of the partition according to the attribute by computing the modularity of the partition,  \n",
    "(ii) argue whether the network is homophilic or heterophilic with respect to that attribute.\n",
    "\n",
    "Store the modularity values in ``m_gender``, ``m_species`` and ``m_home``."
   ]
  },
  {
   "cell_type": "code",
   "execution_count": 6,
   "metadata": {},
   "outputs": [],
   "source": [
    "m_gender = ...\n",
    "m_species = ...\n",
    "m_home = ..."
   ]
  },
  {
   "cell_type": "markdown",
   "metadata": {},
   "source": [
    "**A1d):** _Please provide your answers here!_"
   ]
  },
  {
   "cell_type": "markdown",
   "metadata": {},
   "source": [
    "#### e) Minorities in the Hamsterster Network (8 pts)\n",
    "\n",
    "Finally, we want to analyze how minorities and homophily interplay on this network with respect to the three attributes gender, species and home country.\n",
    "\n",
    "To evaluate the effects of homophily on minorities with respect to these three attributes  \n",
    "(i) compute the shares of the hamsters belonging to each category of each of the three given attributes,    \n",
    "(ii) plot the degree distributions of both classes per attribute against each other,  \n",
    "(iii) compute the average node-wise perception biases regarding the size of the minority group for both majority and minority with respect to each of the three attributes.\n",
    "\n",
    "Store the shares of hamsters into dictionaries ``dist_gender``, ``dist_species`` and ``dist_home`` with format given below. Save the degree distributions as **'dd_gender.png'**, **'dd_species.png'** and **'dd_home.png'**. Do not remove the lines of your code which create and save your .png file. Store the perception biases in ``pb_gender``, ``pb_species`` and ``pb_home`` with format given below.\n",
    "\n",
    "Interpret these results in light of the findings presented in the lecture and the last home assignment (HA2 2c and 2e)!\n"
   ]
  },
  {
   "cell_type": "code",
   "execution_count": 7,
   "metadata": {},
   "outputs": [],
   "source": [
    "# you may use this function to compute the node-wise perception biases\n",
    "def perception_bias(G: nx.Graph, attr: str) -> Dict[str, float]:\n",
    "    \"\"\"\n",
    "    :param G: networkx graph on which we want to compute all biases\n",
    "    :param attr: string specifying the name of the node attribute which stores the information\n",
    "    :            whether a node belongs to the majority or minority group. The value of that attribute should be 0 \n",
    "    :            if the node belongs to the minority, and 1 otherwise\n",
    "    :\n",
    "    :return: dictionary with node IDs as keys and their respective individual perception bias as value\n",
    "    \"\"\"\n",
    "    f_m = 1 - sum(G.nodes[v][attr] for v in G.nodes)/G.number_of_nodes()\n",
    "    bias_dict = dict()\n",
    "    for v in G.nodes:\n",
    "        bias_dict[v] = 1/f_m/G.degree(v)*sum(1-G.nodes[w][attr] for w in G[v])\n",
    "    return bias_dict"
   ]
  },
  {
   "cell_type": "code",
   "execution_count": 8,
   "metadata": {},
   "outputs": [],
   "source": [
    "# your code should create the same dictionaries, where ... is replaced by the respective float values\n",
    "\n",
    "dist_gender = {'male': ..., 'female': ...}\n",
    "dist_species = {'hamster': ..., 'gerbil': ...}\n",
    "dist_home = {'usa': ..., 'other': ...}\n",
    "\n",
    "pb_gender = {'majority': ..., 'minority': ...}\n",
    "pb_species = {'majority': ..., 'minority': ...}\n",
    "pb_home = {'majority': ..., 'minority': ...}"
   ]
  },
  {
   "cell_type": "markdown",
   "metadata": {},
   "source": [
    "**A1e):** _Please provide your answer regarding your observations here!_"
   ]
  },
  {
   "cell_type": "markdown",
   "metadata": {},
   "source": [
    "### Task 2:  Detecting Communities in Stochastic Block Models (17 pts)\n",
    "\n",
    "In this task you should use functions from `networkx` wherever possible.\n",
    "\n",
    "#### a) Creating  Graphs According to Stochastic Block Models (4 pts)\n",
    "\n",
    "In this task we want to generate two networks ``G1`` and ``G2`` according to the following specifications of stochastic block models:\n",
    "* Both networks should contain 400 nodes, divided into four communities of 100 nodes each. \n",
    "* Within each community, the probability of an edge existing should be .05 for ``G1``, and 0.02 for ``G2``.\n",
    "* Between adjacent communities (1 and 2, 2 and 3, 3 and 4, **AND 1 and 4**) the probability of an edge existing should be 0.001 for ``G1``, and 0.005 for ``G2``.\n",
    "* There should be no other edges.\n",
    "* To obtain reproducible results, you have to **pass a random seed** to the stochastic block model generator function from `networkx`. Pass `seed = 2021`, as initialised in the cell below!\n",
    "* Each node should have an attribute ``'community'`` which indicates the community (`int(1)` - `int(4)`) that it belongs to.\n",
    "* In the end, you should remove all nodes which are not in the biggest connected component of the resulting graphs.\n",
    "\n",
    "Create two 4x4 matrices ``probs_G1`` and ``probs_G2`` (use list of lists as provided below), where ``probs_G1[i][j] == probs_G1[j][i]`` should be the probability that an edge exists between individual nodes from community `i` and individual nodes from community `j` in ``G1`` (same for ``probs_G2`` and ``G2``). \n",
    "Afterwards, apply the stochastic block model generator from `networkx` to create ``G1`` and ``G2`` from these matrices, following all the specifications listed above. Again, make sure to use the specified seed, and to filter for the biggest connected component as described above.\n",
    "\n",
    "Plot the resulting graphs using a spring layout and color the nodes according to the community they belong to, i.e. two nodes should have the same color if and only if they belong to the same community. Save the plots as **'G1.png'** and **'G2.png'**. Do not remove the lines of your code which create and save your .png file.\n",
    "\n",
    "_Hint: When initialising ``probs_G1`` and ``probs_G2``, don't forget to also include the probability of an edge existing **within** a community._"
   ]
  },
  {
   "cell_type": "code",
   "execution_count": 9,
   "metadata": {},
   "outputs": [],
   "source": [
    "seed = 2021\n",
    "\n",
    "probs_G1 = [[..., ..., ..., ...],\n",
    "            [..., ..., ..., ...],\n",
    "            [..., ..., ..., ...],\n",
    "            [..., ..., ..., ...]]\n",
    "G1 = ...\n",
    "\n",
    "probs_G2 = [[..., ..., ..., ...],\n",
    "            [..., ..., ..., ...],\n",
    "            [..., ..., ..., ...],\n",
    "            [..., ..., ..., ...]]\n",
    "G2 = ..."
   ]
  },
  {
   "cell_type": "markdown",
   "metadata": {},
   "source": [
    "#### b) Community Detection (5 pts)\n",
    "\n",
    "Apply greedy modularity community detection and the Girvan-Newman algorithm to predict communities on both graphs ``G1`` and ``G2`` - for Girvan-Newman, use the partition into **four communities** . Plot the graphs with node colors according to their predicted communities, using the same orientation as in a). Save the graphs as **'greedymodularity_G1.png'**, **'greedymodularity_G2.png'**, **'girvannewman_G1.png'** and **'girvannewman_G2.png'**. Do not remove the lines of your code which create and save your .png file.\n",
    "\n",
    "Like in 1d), calculate the modularities of the resulting partitions. For greedy modularity community detection, store the values into variables ``m_gm_G1`` and ``m_gm_G2``, and for Girvan-Newman, store the values into ``m_gn_G1`` and ``m_gn_G2``."
   ]
  },
  {
   "cell_type": "code",
   "execution_count": 10,
   "metadata": {},
   "outputs": [],
   "source": [
    "m_gm_G1 = ...\n",
    "m_gm_G2 = ...\n",
    "m_gn_G1 = ...\n",
    "m_gn_G2 = ..."
   ]
  },
  {
   "cell_type": "markdown",
   "metadata": {},
   "source": [
    "#### c) Rand Index (5 pts)\n",
    "\n",
    "Implement a function that returns the _Rand index_ of a given partition, using the function signature specified in the cell below!\n"
   ]
  },
  {
   "cell_type": "code",
   "execution_count": 11,
   "metadata": {},
   "outputs": [],
   "source": [
    "def rand_index(H: nx.Graph, gt_attr: str, pred_part: List) -> float:\n",
    "    \"\"\"\n",
    "    :param H: input networkx graph in which ground truth communities are encoded\n",
    "    :param gt_attr: string specifying the name of the node attribute that indicates which ground truth community each \n",
    "    :               node belongs\n",
    "    :param pred_part: list of lists (or sets) of node IDs, where the sublists/sets correspond to predicted communities, \n",
    "    :                 and thus form a partition of all nodes in a graph \n",
    "    :return: the resulting Rand index as a float value\n",
    "    \"\"\"\n",
    "    # your code here\n",
    "    raise NotImplementedError"
   ]
  },
  {
   "cell_type": "markdown",
   "metadata": {},
   "source": [
    "#### d) Evaluating Partitions (3 pts)\n",
    "\n",
    "Apply your implementation from c) to compute the Rand index of the partitions from both graphs and algorithms computed in b). For greedy modularity community detection store the values into variables ``ri_gm_G1`` and ``ri_gm_G2``, for Girvan-Newman store the values into variables ``ri_gn_G1`` and ``ri_gn_G2``.\n",
    "\n",
    "Does one of the two community detection algorithms work significantly better? Explain your answer!"
   ]
  },
  {
   "cell_type": "code",
   "execution_count": 12,
   "metadata": {},
   "outputs": [],
   "source": [
    "ri_gm_G1 = ...\n",
    "ri_gm_G2 = ...\n",
    "ri_gn_G1 = ...\n",
    "ri_gn_G2 = ..."
   ]
  },
  {
   "cell_type": "markdown",
   "metadata": {},
   "source": [
    "**A2d):** _Please provide your answer regarding your observations here!_"
   ]
  },
  {
   "cell_type": "markdown",
   "metadata": {},
   "source": [
    "### Task 3:  Label Propagation (20 pts)\n",
    "\n",
    "In this task, we will implement the Label Propgation algorithm which has been presented in lecture, and apply it on the graphs that we created in the previous task."
   ]
  },
  {
   "cell_type": "markdown",
   "metadata": {},
   "source": [
    "#### a) The Label Propagation Algorithm (10 pts)\n",
    "\n",
    "Implement the label propagation algorithm, using the signature specified in the cell below.\n",
    "Recall that the algorithm works in the following steps:\n",
    "\n",
    "1. Unless a predefined initial labeling is specified, give a unique label to each node in the network \n",
    "2. Arrange the nodes in the network in a random order \n",
    "3. For each node in the network (in this random order), set its label to a label occurring with the highest frequency among its neighbours - ties may be settled arbitrarily. \n",
    "4. go to 2 as long as there exists a node with a label that does not have the highest frequency among its neighbours.\n",
    "\n",
    "In your implementation, you also must provide an option to specify a custom set of initial labels via a corresponding dictionary which maps node IDs to their labels. In particular, this should also allow to initialize nodes **without a label**, by **not** including specific node IDs as keys in the dictionary. Note that in step 3, if for a specific node none of its neighbors currently have a label, this specific node's label should stay as is.\n",
    "In such a setting, you may assume that the input graph is connected, so that eventually, the predefined input labels will propagate through the full network. Note that since the nodes are updated sequentually rather than synchronously, there cannot be any oscillation of labels, so that the algorithm will converge. \n",
    "\n",
    "You have to return a list of lists of node IDs, in which each of the inner lists corresponds to one of the found communities. Thus, two nodes should end up in the same inner list if and only if they belong to the same community. \n",
    "\n",
    "**Note:** There are ways to implement the algorithm in a deterministic or in a non-determinnistic manner. We allow both kinds of solutions."
   ]
  },
  {
   "cell_type": "code",
   "execution_count": 13,
   "metadata": {},
   "outputs": [],
   "source": [
    "def label_propagation(G: nx.Graph, init_labels: Dict=None) -> List[List]:\n",
    "    \"\"\"\n",
    "    :param G: input networkx graph\n",
    "    :param init_labels: dictionary of initial labels, where node IDs serve as keys, and their initial labels as values. \n",
    "                        If not specified/None, all nodes have to be assigned a unique label at the beginning of the algorithm.\n",
    "    :return: List of lists of node IDs, where each sublist corresponds to one of the found communities.\n",
    "    \"\"\"\n",
    "    # your code here\n",
    "    raise NotImplementedError"
   ]
  },
  {
   "cell_type": "markdown",
   "metadata": {},
   "source": [
    "#### b) Label Propagation on Stochastic Block Models (3 pts)\n",
    "\n",
    "Apply your implementation from a) **ten times each** on both graphs `G1`and `G2` from task 2. For each of the corresponding partitions, compute both the resulting modularities as well as the Rand index values. Store the ten resulting modularities and Rand index values for graph `G1` into lists ``ri_lp_list_G1`` and ``m_lp_list_G1``, and the ten resulting modularities and Rand indices for `G2` into lists ``ri_lp_list_G2`` and ``m_lp_list_G2``, respectively. Further, for both graphs, compute the average modularity and Rand index that you have obtained from the ten respective runs, and store the results into the variables `avg_m_lp_G1` and `avg_ri_lp_G1` for `G1`, and into the variables `avg_m_lp_G1` and `avg_ri_lp_G2` for `G2`.\n",
    "\n",
    "**Note:** Do not worry if you have a deterministic implementation which always returns the same partitions. We run the label propagation algorithms multiple times to account for variations in the outcomes of non-deterministic implementations. Further, there are also methods to aggregate different partitions, which however are not in scope of this lecture."
   ]
  },
  {
   "cell_type": "code",
   "execution_count": 14,
   "metadata": {},
   "outputs": [],
   "source": [
    "m_lp_list_G1 = ...\n",
    "m_lp_list_G2 = ...\n",
    "avg_m_lp_G1 = ...\n",
    "avg_m_lp_G2 = ...\n",
    "ri_lp_list_G1 = ...\n",
    "ri_lp_list_G2 = ...\n",
    "avg_ri_lp_G1 = ...\n",
    "avg_ri_lp_G2 = ..."
   ]
  },
  {
   "cell_type": "markdown",
   "metadata": {},
   "source": [
    "#### c) Label Propagation with Pre-informed Initial Labels (4 pts)\n",
    "\n",
    "For both graphs `G1`and `G2`, determine in each community the node with the highest degree. Store these highest-degree nodes per community for `G1` in a dictionary `init_G1`, and for `G2` in a dictionary `init_G2`. In these dictionaries, the four node IDs should serve as keys, and the corresponding community indices should serve as values.\n",
    "\n",
    "Rerun the experiments from b), but this time pass the respective dictionaries `init_G1` and `init_G2` as corresponding values to the `init_labels` parameter of your implementation from a) when looking for communities in `G1`and `G2`.\n",
    "\n",
    "Again, run your label propagation algorithm **ten times** on each of the both graphs `G1`and `G2`, and compute the corresponding resulting modularities and Rand indices. Store the ten resulting modularities and Rand indices for graph `G1` into lists ``ri_lpi_list_G1`` and ``m_lpi_list_G1``, and the ten resulting modularities and Rand indices for `G2` into lists ``ri_lpi_list_G2`` and ``m_lpi_list_G2``, respectively. Once more, for both graphs, compute the average modularity and Rand index that you have obtained from the ten respective runs, and store the results into the variables `avg_m_lpi_G1` and `avg_ri_lpi_G1` for `G1`, and into the variables `avg_m_lpi_G2` and `avg_ri_lpi_G2` for `G2`."
   ]
  },
  {
   "cell_type": "code",
   "execution_count": 15,
   "metadata": {},
   "outputs": [],
   "source": [
    "init_G1 = ...\n",
    "init_G2 = ..."
   ]
  },
  {
   "cell_type": "code",
   "execution_count": 16,
   "metadata": {},
   "outputs": [],
   "source": [
    "m_lpi_list_G1 = ...\n",
    "m_lpi_list_G2 = ...\n",
    "avg_m_lpi_G1 = ...\n",
    "avg_m_lpi_G2 = ...\n",
    "ri_lpi_list_G1 = ...\n",
    "ri_lpi_list_G2 = ...\n",
    "avg_ri_lpi_G1 = ...\n",
    "avg_ri_lpi_G2 = ..."
   ]
  },
  {
   "cell_type": "markdown",
   "metadata": {},
   "source": [
    "#### d) Evaluating the Results (3 pts)\n",
    "\n",
    "Give a summary of the results that you have obtained in tasks b) and c), also in light of the results from task 2. How does label propagation fare compared to Girvan-Newman and greedy modularity maximation? Under which circumstances can pre-informed labels be used effectively? Provide a thorough discussion to these questions! "
   ]
  },
  {
   "cell_type": "markdown",
   "metadata": {},
   "source": [
    "**A3d):** _Please provide your discussion here!_"
   ]
  },
  {
   "cell_type": "markdown",
   "metadata": {},
   "source": [
    "### Task 4:  Generating (Dis)Assortative Networks (25 pts)\n",
    "\n",
    "#### a) The Xalvi-Brunet and Sokolov Algorithm (10 pts)\n",
    "\n",
    "Implement the Xalvi-Brunet and Sokolov algorithm for generating (Dis)Assortative Networks, using the signature specified in the cell below.  \n",
    "Recall that the algorithm takes as input a graph, on which edge pairs are going to be rewired for a fixed number of steps. Each of the rewiring steps should use the following procedure:\n",
    "* two random edges are drawn, and their incident nodes are labeled a, b ,c , and d so that $k_a \\geq k_b \\geq k_c \\geq k_d$.\n",
    "* with a given probability $p$, the edges are rewired to make the network more (dis)assortative, following the procedure in the next step. Otherwise, the edges are rewired at random.\n",
    "* When aiming for an assortative network, we rewire the edges such that $a$ joins $b$ and $c$ joins $d$. Otherwise, we join $a$ with $d$ and $b$ with $c$.\n",
    "* To avoid self-loops and multiedges, we redraw the edges and repeat the current step if the two drawn edges share a node, or if the rewiring would yield an edge that already exists in the network (but has not been drawn for rewiring). Note that in the implementation we impose a limit on how often we try to resample if such a case occurs.\n",
    "\n",
    "**Important: Do not modify the input graph directly (i.e. create a copy before modifying the graph).**"
   ]
  },
  {
   "cell_type": "code",
   "execution_count": 17,
   "metadata": {},
   "outputs": [],
   "source": [
    "import numpy as np\n",
    "import networkx as nx\n",
    "from matplotlib import pyplot as plt\n",
    "import random\n",
    "import sys\n",
    "import warnings"
   ]
  },
  {
   "cell_type": "code",
   "execution_count": 18,
   "metadata": {},
   "outputs": [],
   "source": [
    "G = nx.read_weighted_edgelist(\"hamsterster.edgelist\", comments='%')\n",
    "# nx.draw(G)\n"
   ]
  },
  {
   "cell_type": "code",
   "execution_count": 19,
   "metadata": {},
   "outputs": [
    {
     "name": "stdout",
     "output_type": "stream",
     "text": [
      "Name: \n",
      "Type: Graph\n",
      "Number of nodes: 1856\n",
      "Number of edges: 12531\n",
      "Average degree:  13.5032\n"
     ]
    }
   ],
   "source": [
    "G.number_of_edges()\n",
    "G.number_of_nodes()\n",
    "print(nx.info(G))"
   ]
  },
  {
   "cell_type": "code",
   "execution_count": 22,
   "metadata": {},
   "outputs": [],
   "source": [
    "# define a function to check whether the chosen random two edges are selfloop or multiedges. \n",
    "# If yes, then resample two new random edges within n times\n",
    "def check_multiedges(redges):\n",
    "    \"\"\"\n",
    "    :param test: input two crandom edges\n",
    "    :param n: number of times we resample an edge pair if a sampled pair shares a node\n",
    "    :return: resulting two random edges, which is not selfloop or multiedges\n",
    "    \"\"\"\n",
    "    \n",
    "    if redges[0][0] != redges[0][1]:\n",
    "        if redges[0][0] != redges[1][0] and redges[0][0] != redges[1][1]:\n",
    "            if redges[1][0] != redges[1][1]:\n",
    "                if redges[0][1] != redges[1][0] and redges[0][1] != redges[1][1]:\n",
    "                    return True\n",
    "\n",
    "    return False"
   ]
  },
  {
   "cell_type": "code",
   "execution_count": 23,
   "metadata": {},
   "outputs": [],
   "source": [
    "def edge_sampling(G):\n",
    "    random_edges = random.sample(G.edges(),2)\n",
    "    return random_edges"
   ]
  },
  {
   "cell_type": "code",
   "execution_count": 52,
   "metadata": {
    "code_folding": []
   },
   "outputs": [],
   "source": [
    "def check_existing_edges(redges,G):\n",
    "    \"\"\"\n",
    "    :param edges: input two random edges\n",
    "    :param n_tries: number of times we resample an edge pair if a sampled pair shares a node\n",
    "    :param G: input graph\n",
    "    :return: resulting two random edges, which is not selfloop or multiedges\n",
    "    \"\"\"\n",
    "    check_edges = []\n",
    "    \n",
    "    for i in range(2):\n",
    "        for j in range(2):\n",
    "            check_edges.append((redges[0][i],redges[1][j]))\n",
    "            check_edges.append((redges[1][j],redges[0][i]))\n",
    "            check_edges.append((redges[1][j],redges[1][j]))\n",
    "            check_edges.append((redges[0][i],redges[0][i]))\n",
    "#     print('check edges:', check_edges)\n",
    "    for u,v in check_edges:\n",
    "        if (u,v) not in G.edges():\n",
    "            return True\n",
    "    return False"
   ]
  },
  {
   "cell_type": "code",
   "execution_count": 63,
   "metadata": {},
   "outputs": [],
   "source": [
    "def xbs(G: nx.Graph, p: float, assortative: bool=True, n_steps: int=100, n_tries: int=100) -> nx.Graph:\n",
    "    \n",
    "    count = 0\n",
    "    while (count < n_steps):\n",
    "        #choose two existing edges randomly and check they does not share a node\n",
    "        sample_count = 0\n",
    "        while (sample_count <= n_tries):\n",
    "            if sample_count == n_tries:\n",
    "                warnings.warn('Maximum number of tries exceeded')\n",
    "                sys.exit()\n",
    "            random_egdes = edge_sampling(G)\n",
    "            if check_multiedges(random_egdes) == True and check_existing_edges(random_egdes, G):\n",
    "                random_edges_final = random_egdes\n",
    "                break \n",
    "            sample_count = sample_count + 1\n",
    "            \n",
    "        print(random_edges_final)\n",
    "        #get the degree of all the nodes of chosen edges and sort them\n",
    "        degree_merge = {}\n",
    "        for item in random_edges_final:\n",
    "            degree_of_CE = dict(G.degree(item))\n",
    "            degree_merge.update(degree_of_CE)\n",
    "#         print(\"degree of nodes detail:\", degree_merge)\n",
    "#         print('******************************************')\n",
    "\n",
    "        degree_sort = sorted(degree_merge.items(),\n",
    "                             key=lambda item:item[1],reverse=True)\n",
    "#         print('degree list:', degree_merge)\n",
    "#         print('degree sort:', degree_sort)\n",
    "\n",
    "            \n",
    "\n",
    "#         print('******************************************')\n",
    "        #add label ads node attribute to all the nodes and mark the certain nodes according 𝑘𝑎≥𝑘𝑏≥𝑘𝑐≥𝑘𝑑\n",
    "#         nx.set_node_attributes(G, name = 'label',values ='None')\n",
    "#         G.nodes[degree_sort[0][0]]['label'] = 'a'\n",
    "#         G.nodes[degree_sort[1][0]]['label'] = 'b'\n",
    "#         G.nodes[degree_sort[2][0]]['label'] = 'c'\n",
    "#         G.nodes[degree_sort[3][0]]['label'] = 'd'\n",
    "# #         label = nx.get_node_attributes(G,'label')\n",
    "#         # print(G.node(data=True))\n",
    "\n",
    "\n",
    "        #remove the two chosen random edges\n",
    "        remove_edges = G.remove_edges_from(random_edges_final)\n",
    "\n",
    "# identify the node a,b,c,d exactly\n",
    "        node_a = degree_sort[0][0]\n",
    "        node_b = degree_sort[1][0]\n",
    "        node_c = degree_sort[2][0]\n",
    "        node_d = degree_sort[3][0]\n",
    "\n",
    "        random_num = np.random.rand()\n",
    "#         print(random_num)\n",
    "\n",
    "        if random_num < p: \n",
    "            if assortative == True:\n",
    "\n",
    "                G.add_edge(node_a, node_b)\n",
    "                G.add_edge(node_c, node_d)\n",
    "#                 print('The graph will be more assortativity')\n",
    "            else:\n",
    "                G.add_edge(node_a, node_d)\n",
    "                G.add_edge(node_b, node_c)\n",
    "#                 print('The graph will be more disassortativity')\n",
    "\n",
    "        else:  \n",
    "            random_choice  = []\n",
    "            node_list = [node_a,node_b,node_c,node_d]\n",
    "            rest_choice = node_list\n",
    "            random_choice = random.sample(node_list,2)\n",
    "#             print('first:',random_choice)\n",
    "            for i in random_choice:\n",
    "                rest_choice.remove(i)\n",
    "#             print('rest:',rest_choice)\n",
    "            G.add_edge(random_choice[0], random_choice[1])\n",
    "            G.add_edge(rest_choice[0], rest_choice[1])\n",
    "#             print(\"The graph will be rewired randomly\")\n",
    "    \n",
    "        count = count + 1\n",
    "#         print(\"count=\",count)\n",
    "    return G\n"
   ]
  },
  {
   "cell_type": "code",
   "execution_count": 64,
   "metadata": {},
   "outputs": [
    {
     "name": "stdout",
     "output_type": "stream",
     "text": [
      "[('579', '121'), ('912', '295')]\n",
      "[('128', '9'), ('574', '576')]\n",
      "[('458', '621'), ('94', '666')]\n",
      "[('356', '563'), ('572', '1250')]\n",
      "[('64', '301'), ('348', '973')]\n",
      "[('178', '506'), ('458', '488')]\n",
      "[('896', '1340'), ('1295', '1297')]\n",
      "[('53', '1110'), ('911', '883')]\n",
      "[('265', '190'), ('350', '1312')]\n",
      "[('356', '563'), ('586', '833')]\n",
      "[('140', '277'), ('178', '91')]\n",
      "[('234', '167'), ('827', '830')]\n",
      "[('128', '727'), ('246', '1442')]\n",
      "[('42', '41'), ('46', '800')]\n",
      "[('642', '506'), ('117', '56')]\n",
      "[('532', '523'), ('87', '847')]\n",
      "[('176', '634'), ('439', '458')]\n",
      "[('176', '1399'), ('237', '740')]\n",
      "[('179', '568'), ('461', '1824')]\n",
      "[('359', '912'), ('492', '632')]\n",
      "[('176', '1394'), ('237', '836')]\n",
      "[('211', '551'), ('145', '575')]\n",
      "[('297', '1551'), ('4', '277')]\n",
      "[('348', '111'), ('102', '331')]\n",
      "[('2', '556'), ('177', '8')]\n",
      "[('169', '693'), ('70', '1581')]\n",
      "[('477', '38'), ('297', '63')]\n",
      "[('178', '313'), ('347', '1041')]\n",
      "[('255', '1261'), ('888', '655')]\n",
      "[('259', '571'), ('64', '1510')]\n",
      "[('1463', '1462'), ('27', '720')]\n",
      "[('63', '196'), ('237', '738')]\n",
      "[('526', '1039'), ('238', '23')]\n",
      "[('726', '508'), ('606', '89')]\n",
      "[('137', '171'), ('128', '203')]\n",
      "[('10', '114'), ('385', '132')]\n",
      "[('606', '536'), ('176', '1367')]\n",
      "[('749', '525'), ('58', '273')]\n",
      "[('211', '729'), ('425', '445')]\n",
      "[('807', '72'), ('586', '954')]\n",
      "[('419', '250'), ('1732', '1211')]\n",
      "[('1362', '1158'), ('64', '264')]\n",
      "[('651', '153'), ('580', '159')]\n",
      "[('80', '1697'), ('300', '850')]\n",
      "[('1314', '1095'), ('846', '249')]\n",
      "[('264', '373'), ('419', '642')]\n",
      "[('135', '601'), ('725', '492')]\n",
      "[('346', '1091'), ('573', '665')]\n",
      "[('117', '1776'), ('644', '1090')]\n",
      "[('401', '405'), ('296', '3')]\n",
      "[('19', '14'), ('373', '132')]\n",
      "[('15', '716'), ('150', '103')]\n",
      "[('245', '625'), ('761', '410')]\n",
      "[('1617', '1066'), ('347', '1083')]\n",
      "[('635', '798'), ('706', '1553')]\n",
      "[('801', '233'), ('238', '109')]\n",
      "[('70', '2'), ('124', '63')]\n",
      "[('375', '773'), ('474', '418')]\n",
      "[('114', '1253'), ('251', '210')]\n",
      "[('466', '378'), ('629', '1470')]\n",
      "[('237', '52'), ('45', '1470')]\n",
      "[('477', '37'), ('238', '483')]\n",
      "[('579', '567'), ('3', '137')]\n",
      "[('179', '606'), ('10', '351')]\n",
      "[('27', '719'), ('3', '16')]\n",
      "[('245', '1136'), ('260', '64')]\n",
      "[('157', '115'), ('211', '425')]\n",
      "[('835', '111'), ('87', '33')]\n",
      "[('96', '214'), ('244', '579')]\n",
      "[('790', '658'), ('356', '494')]\n",
      "[('438', '930'), ('897', '1339')]\n",
      "[('347', '126'), ('261', '295')]\n",
      "[('140', '123'), ('375', '680')]\n",
      "[('509', '295'), ('251', '432')]\n",
      "[('245', '492'), ('1564', '1391')]\n",
      "[('580', '498'), ('465', '122')]\n",
      "[('322', '1549'), ('45', '1438')]\n",
      "[('195', '504'), ('130', '726')]\n",
      "[('63', '302'), ('178', '378')]\n",
      "[('1768', '1767'), ('128', '492')]\n",
      "[('347', '494'), ('245', '485')]\n",
      "[('251', '27'), ('237', '320')]\n",
      "[('65', '227'), ('66', '218')]\n",
      "[('130', '1177'), ('158', '850')]\n",
      "[('642', '342'), ('381', '131')]\n",
      "[('149', '889'), ('44', '491')]\n",
      "[('782', '1001'), ('210', '1452')]\n",
      "[('606', '468'), ('816', '821')]\n",
      "[('831', '827'), ('911', '1386')]\n",
      "[('299', '1166'), ('104', '148')]\n",
      "[('467', '469'), ('438', '491')]\n",
      "[('459', '762'), ('254', '577')]\n",
      "[('300', '37'), ('439', '491')]\n",
      "[('758', '1186'), ('751', '903')]\n",
      "[('373', '1144'), ('25', '549')]\n",
      "[('349', '497'), ('347', '492')]\n",
      "[('987', '1252'), ('80', '667')]\n",
      "[('420', '1159'), ('76', '956')]\n",
      "[('169', '881'), ('349', '70')]\n",
      "[('313', '131'), ('44', '358')]\n"
     ]
    }
   ],
   "source": [
    "G4 = G.copy()\n",
    "# G4 = nx.karate_club_graph()\n",
    "G_test = xbs(G4, 0.2, True, 100, 100)"
   ]
  },
  {
   "cell_type": "markdown",
   "metadata": {},
   "source": [
    "#### b) Rewiring the Hamsterster Network (7 pts)\n",
    "\n",
    "Apply your implementation from a) to create ten rewirings of the Hamsterster network. More precisely, create one assortative and one disassortative rewiring for each of the parameter values $p\\in \\{0.2,0.4,0.6,0.8,1\\}$, with $n_{steps}=10000$ rewiring steps. Store the ten graphs into ``graphs`` using the format which is given below. Make sure that you do **not** modify ``G`` from task 1a). For each of the resulting graphs, compute the assortativity coefficient $r$ and store it into ``r_coef`` using the format which is given below. \n",
    "\n",
    "Compute all degree correlations $k_{nn}(k)$. Create two degree correlation plots, one for the assortative, and one for the disassortative rewirings, in which the correlations for all five values of $p$ are displayed in distinct colors. Save them as **'assortative_rw.png'** and **'disassortative_rw.png'**. Do not remove the lines of your code which create and save your .png file."
   ]
  },
  {
   "cell_type": "code",
   "execution_count": 26,
   "metadata": {},
   "outputs": [],
   "source": [
    "# site: the solution of Exercise 06 Task 4\n",
    "def knn(G):\n",
    "    \"\"\"\n",
    "    :param G: networkx graph\n",
    "    :\n",
    "    :return:  a dictionary where the keys are the node degrees occurring in the graph, \n",
    "    :         and the values correspond to the average correlation $k_nn(k)$!\n",
    "    \"\"\"\n",
    "    \n",
    "    knn_ki = nx.average_neighbor_degree(G)\n",
    "    dd = dict()\n",
    "    knn = dict()\n",
    "    \n",
    "    for v in G.nodes():\n",
    "        k = G.degree(v)\n",
    "        \n",
    "        if k in dd:\n",
    "            dd[k] += 1\n",
    "            knn[k] += knn_ki[v]\n",
    "        else:\n",
    "            dd[k] = 1\n",
    "            knn[k] = knn_ki[v]\n",
    "    \n",
    "    for k in dd:\n",
    "        knn[k] = knn[k]/dd[k]\n",
    "        \n",
    "    return knn"
   ]
  },
  {
   "cell_type": "code",
   "execution_count": 27,
   "metadata": {},
   "outputs": [
    {
     "name": "stdout",
     "output_type": "stream",
     "text": [
      "0.021050999456714153\n",
      "-0.12859900329396684\n"
     ]
    }
   ],
   "source": [
    "G_new = G.copy() \n",
    "# create 10 rewirings of the Hamsterster network\n",
    "asso_2 = xbs(G_new, 0.2, True, 10000, 100)\n",
    "r_asso_2 = nx.degree_assortativity_coefficient(asso_2)\n",
    "rd_asso_2 = knn(asso_2)\n",
    "\n",
    "print(r_asso_2)\n",
    "\n",
    "G_new = G.copy() \n",
    "disasso_2 = xbs(G_new, 0.2, False, 10000, 100)\n",
    "r_disasso_2 = nx.degree_assortativity_coefficient(disasso_2)\n",
    "rd_disasso_2 = knn(disasso_2)\n",
    "print(r_disasso_2)"
   ]
  },
  {
   "cell_type": "code",
   "execution_count": 28,
   "metadata": {},
   "outputs": [
    {
     "name": "stdout",
     "output_type": "stream",
     "text": [
      "0.09990454902774216\n",
      "-0.16515373341021222\n"
     ]
    }
   ],
   "source": [
    "G_new = G.copy() \n",
    "# create 10 rewirings of the Hamsterster network\n",
    "asso_4 = xbs(G_new, 0.4, True, 10000, 100)\n",
    "r_asso_4 = nx.degree_assortativity_coefficient(asso_4)\n",
    "rd_asso_4 = knn(asso_4)\n",
    "\n",
    "print(r_asso_4)\n",
    "\n",
    "G_new = G.copy() \n",
    "disasso_4 = xbs(G_new, 0.4, False, 10000, 100)\n",
    "r_disasso_4 = nx.degree_assortativity_coefficient(disasso_4)\n",
    "rd_disasso_4 = knn(disasso_4)\n",
    "print(r_disasso_4)"
   ]
  },
  {
   "cell_type": "code",
   "execution_count": 29,
   "metadata": {},
   "outputs": [
    {
     "name": "stdout",
     "output_type": "stream",
     "text": [
      "0.1942885072554349\n",
      "-0.23148143123179113\n"
     ]
    }
   ],
   "source": [
    "G_new = G.copy() \n",
    "# create 10 rewirings of the Hamsterster network\n",
    "asso_6 = xbs(G_new, 0.6, True, 10000, 100)\n",
    "r_asso_6 = nx.degree_assortativity_coefficient(asso_6)\n",
    "rd_asso_6 = knn(asso_6)\n",
    "\n",
    "print(r_asso_6)\n",
    "\n",
    "G_new = G.copy() \n",
    "disasso_6 = xbs(G_new, 0.6, False, 10000, 100)\n",
    "r_disasso_6 = nx.degree_assortativity_coefficient(disasso_6)\n",
    "rd_disasso_6 = knn(disasso_6)\n",
    "print(r_disasso_6)"
   ]
  },
  {
   "cell_type": "code",
   "execution_count": 30,
   "metadata": {},
   "outputs": [
    {
     "name": "stdout",
     "output_type": "stream",
     "text": [
      "0.2705557646524164\n",
      "-0.2812633786371805\n"
     ]
    }
   ],
   "source": [
    "G_new = G.copy() \n",
    "# create 10 rewirings of the Hamsterster network\n",
    "asso_8 = xbs(G_new, 0.8, True, 10000, 100)\n",
    "r_asso_8 = nx.degree_assortativity_coefficient(asso_8)\n",
    "rd_asso_8 = knn(asso_8)\n",
    "\n",
    "print(r_asso_8)\n",
    "\n",
    "G_new = G.copy() \n",
    "disasso_8 = xbs(G_new, 0.8, False, 10000, 100)\n",
    "r_disasso_8 = nx.degree_assortativity_coefficient(disasso_8)\n",
    "rd_disasso_8 = knn(disasso_8)\n",
    "print(r_disasso_8)"
   ]
  },
  {
   "cell_type": "code",
   "execution_count": 31,
   "metadata": {},
   "outputs": [
    {
     "name": "stdout",
     "output_type": "stream",
     "text": [
      "0.36912071746942354\n",
      "-0.3414884083159351\n"
     ]
    }
   ],
   "source": [
    "G_new = G.copy() \n",
    "# create 10 rewirings of the Hamsterster network\n",
    "asso_0 = xbs(G_new, 1.0, True, 10000, 100)\n",
    "r_asso_0 = nx.degree_assortativity_coefficient(asso_0)\n",
    "rd_asso_0 = knn(asso_0)\n",
    "\n",
    "print(r_asso_0)\n",
    "\n",
    "G_new = G.copy() \n",
    "disasso_0 = xbs(G_new, 1.0, False, 10000, 100)\n",
    "r_disasso_0 = nx.degree_assortativity_coefficient(disasso_0)\n",
    "rd_disasso_0 = knn(disasso_0)\n",
    "print(r_disasso_0)"
   ]
  },
  {
   "cell_type": "code",
   "execution_count": 32,
   "metadata": {},
   "outputs": [],
   "source": [
    "# your code should create the same dictionary, where ... is replaced by the respective networkx graph\n",
    "graphs = {\n",
    "    'assortative': {\n",
    "        '0.2': asso_2,\n",
    "        '0.4': asso_4,\n",
    "        '0.6': asso_6,\n",
    "        '0.8': asso_8,\n",
    "        '1.0': asso_0\n",
    "    },\n",
    "    'disassortative': {\n",
    "        '0.2': disasso_2,\n",
    "        '0.4': disasso_4,\n",
    "        '0.6': disasso_6,\n",
    "        '0.8': disasso_8,\n",
    "        '1.0': disasso_0\n",
    "    }\n",
    "}\n",
    "\n",
    "# your code should create the same dictionary, where ... is replaced by the respective float\n",
    "r_coef = {\n",
    "    'assortative': {\n",
    "        '0.2': r_asso_2,\n",
    "        '0.4': r_asso_4,\n",
    "        '0.6': r_asso_6,\n",
    "        '0.8': r_asso_8,\n",
    "        '1.0': r_asso_0\n",
    "    },\n",
    "    'disassortative': {\n",
    "        '0.2': r_disasso_2,\n",
    "        '0.4': r_disasso_4,\n",
    "        '0.6': r_disasso_6,\n",
    "        '0.8': r_disasso_8,\n",
    "        '1.0': r_disasso_0\n",
    "    }\n",
    "}"
   ]
  },
  {
   "cell_type": "code",
   "execution_count": 33,
   "metadata": {},
   "outputs": [
    {
     "data": {
      "image/png": "[encoded data removed]",
      "text/plain": [
       "<Figure size 432x288 with 1 Axes>"
      ]
     },
     "metadata": {
      "needs_background": "light"
     },
     "output_type": "display_data"
    }
   ],
   "source": [
    "# plot degree correlation plot for the assortative\n",
    "plt.scatter(rd_asso_2.keys(), rd_asso_2.values(), c='red')\n",
    "plt.scatter(rd_asso_4.keys(), rd_asso_4.values(), c='green')\n",
    "plt.scatter(rd_asso_6.keys(), rd_asso_6.values(), c='yellow')\n",
    "plt.scatter(rd_asso_8.keys(), rd_asso_8.values(), c='blue')\n",
    "plt.scatter(rd_asso_0.keys(), rd_asso_0.values(), c='purple')\n",
    "\n",
    "plt.legend((\"0.2\",\"0.4\",'0.6','0.8','1.0'),loc=0)\n",
    "plt.xlabel(\"k\")\n",
    "plt.ylabel(\"k_nn(k)\")\n",
    "fig = plt.gcf()\n",
    "plt.show()\n",
    "fig.savefig(\"assortative_rw.png\")"
   ]
  },
  {
   "cell_type": "code",
   "execution_count": 34,
   "metadata": {},
   "outputs": [
    {
     "data": {
      "image/png": "[encoded data removed]",
      "text/plain": [
       "<Figure size 432x288 with 1 Axes>"
      ]
     },
     "metadata": {
      "needs_background": "light"
     },
     "output_type": "display_data"
    }
   ],
   "source": [
    "# plot degree correlation plot for the disassortative\n",
    "plt.scatter(rd_disasso_2.keys(), rd_disasso_2.values(), c ='red')\n",
    "plt.scatter(rd_disasso_4.keys(), rd_disasso_4.values(), c='green')\n",
    "plt.scatter(rd_disasso_6.keys(), rd_disasso_6.values(), c='yellow')\n",
    "plt.scatter(rd_disasso_8.keys(), rd_disasso_8.values(), c='blue')\n",
    "plt.scatter(rd_disasso_0.keys(), rd_disasso_0.values(), c='purple')\n",
    "\n",
    "plt.legend((\"0.2\",\"0.4\",'0.6','0.8','1.0'),loc=0)\n",
    "plt.xlabel(\"k\")\n",
    "plt.ylabel(\"k_nn(k)\")\n",
    "fig = plt.gcf()\n",
    "plt.show()\n",
    "fig.savefig(\"disassortative_rw.png\")"
   ]
  },
  {
   "cell_type": "markdown",
   "metadata": {},
   "source": [
    "#### c) Impact of Assortativity on Path Lengths (3 pts)\n",
    "\n",
    "For each of the graphs created in b), compute the average path length and diameter of the network and store the values into ``avg_pls`` and ``diameters`` using the format below. Compare these values against each other as well as against the values of the original graph. What do you observe?  \n",
    "__Note:__ Depending on the computation power of your machine, this computation may take a little while."
   ]
  },
  {
   "cell_type": "code",
   "execution_count": 55,
   "metadata": {},
   "outputs": [
    {
     "ename": "NetworkXError",
     "evalue": "Graph is not connected.",
     "output_type": "error",
     "traceback": [
      "\u001b[0;31m---------------------------------------------------------------------------\u001b[0m",
      "\u001b[0;31mNetworkXError\u001b[0m                             Traceback (most recent call last)",
      "\u001b[0;32m<ipython-input-55-640481dea5b9>\u001b[0m in \u001b[0;36m<module>\u001b[0;34m\u001b[0m\n\u001b[1;32m      1\u001b[0m \u001b[0;31m# compute the average path length of assortative graphs\u001b[0m\u001b[0;34m\u001b[0m\u001b[0;34m\u001b[0m\u001b[0;34m\u001b[0m\u001b[0m\n\u001b[0;32m----> 2\u001b[0;31m \u001b[0mpls_2\u001b[0m \u001b[0;34m=\u001b[0m \u001b[0mnx\u001b[0m\u001b[0;34m.\u001b[0m\u001b[0maverage_shortest_path_length\u001b[0m\u001b[0;34m(\u001b[0m\u001b[0masso_2\u001b[0m\u001b[0;34m)\u001b[0m\u001b[0;34m\u001b[0m\u001b[0;34m\u001b[0m\u001b[0m\n\u001b[0m\u001b[1;32m      3\u001b[0m \u001b[0mpls_4\u001b[0m \u001b[0;34m=\u001b[0m \u001b[0mnx\u001b[0m\u001b[0;34m.\u001b[0m\u001b[0maverage_shortest_path_length\u001b[0m\u001b[0;34m(\u001b[0m\u001b[0masso_4\u001b[0m\u001b[0;34m)\u001b[0m\u001b[0;34m\u001b[0m\u001b[0;34m\u001b[0m\u001b[0m\n\u001b[1;32m      4\u001b[0m \u001b[0mpls_6\u001b[0m \u001b[0;34m=\u001b[0m \u001b[0mnx\u001b[0m\u001b[0;34m.\u001b[0m\u001b[0maverage_shortest_path_length\u001b[0m\u001b[0;34m(\u001b[0m\u001b[0masso_6\u001b[0m\u001b[0;34m)\u001b[0m\u001b[0;34m\u001b[0m\u001b[0;34m\u001b[0m\u001b[0m\n\u001b[1;32m      5\u001b[0m \u001b[0mpls_8\u001b[0m \u001b[0;34m=\u001b[0m \u001b[0mnx\u001b[0m\u001b[0;34m.\u001b[0m\u001b[0maverage_shortest_path_length\u001b[0m\u001b[0;34m(\u001b[0m\u001b[0masso_8\u001b[0m\u001b[0;34m)\u001b[0m\u001b[0;34m\u001b[0m\u001b[0;34m\u001b[0m\u001b[0m\n",
      "\u001b[0;32m~/opt/anaconda3/lib/python3.7/site-packages/networkx/algorithms/shortest_paths/generic.py\u001b[0m in \u001b[0;36maverage_shortest_path_length\u001b[0;34m(G, weight, method)\u001b[0m\n\u001b[1;32m    391\u001b[0m         \u001b[0;32mraise\u001b[0m \u001b[0mnx\u001b[0m\u001b[0;34m.\u001b[0m\u001b[0mNetworkXError\u001b[0m\u001b[0;34m(\u001b[0m\u001b[0;34m\"Graph is not weakly connected.\"\u001b[0m\u001b[0;34m)\u001b[0m\u001b[0;34m\u001b[0m\u001b[0;34m\u001b[0m\u001b[0m\n\u001b[1;32m    392\u001b[0m     \u001b[0;32mif\u001b[0m \u001b[0;32mnot\u001b[0m \u001b[0mG\u001b[0m\u001b[0;34m.\u001b[0m\u001b[0mis_directed\u001b[0m\u001b[0;34m(\u001b[0m\u001b[0;34m)\u001b[0m \u001b[0;32mand\u001b[0m \u001b[0;32mnot\u001b[0m \u001b[0mnx\u001b[0m\u001b[0;34m.\u001b[0m\u001b[0mis_connected\u001b[0m\u001b[0;34m(\u001b[0m\u001b[0mG\u001b[0m\u001b[0;34m)\u001b[0m\u001b[0;34m:\u001b[0m\u001b[0;34m\u001b[0m\u001b[0;34m\u001b[0m\u001b[0m\n\u001b[0;32m--> 393\u001b[0;31m         \u001b[0;32mraise\u001b[0m \u001b[0mnx\u001b[0m\u001b[0;34m.\u001b[0m\u001b[0mNetworkXError\u001b[0m\u001b[0;34m(\u001b[0m\u001b[0;34m\"Graph is not connected.\"\u001b[0m\u001b[0;34m)\u001b[0m\u001b[0;34m\u001b[0m\u001b[0;34m\u001b[0m\u001b[0m\n\u001b[0m\u001b[1;32m    394\u001b[0m     \u001b[0;31m# Compute all-pairs shortest paths.\u001b[0m\u001b[0;34m\u001b[0m\u001b[0;34m\u001b[0m\u001b[0;34m\u001b[0m\u001b[0m\n\u001b[1;32m    395\u001b[0m \u001b[0;34m\u001b[0m\u001b[0m\n",
      "\u001b[0;31mNetworkXError\u001b[0m: Graph is not connected."
     ]
    }
   ],
   "source": [
    "# compute the average path length of assortative graphs\n",
    "pls_2 = nx.average_shortest_path_length(asso_2)\n",
    "pls_4 = nx.average_shortest_path_length(asso_4)\n",
    "pls_6 = nx.average_shortest_path_length(asso_6)\n",
    "pls_8 = nx.average_shortest_path_length(asso_8)\n",
    "pls_0 = nx.average_shortest_path_length(asso_0)\n",
    "\n",
    "# compute the average path length of disassortative graphs\n",
    "pls_dis_2 = nx.average_shortest_path_length(disasso_2)\n",
    "pls_dis_4 = nx.average_shortest_path_length(disasso_4)\n",
    "pls_dis_6 = nx.average_shortest_path_length(disasso_6)\n",
    "pls_dis_8 = nx.average_shortest_path_length(disasso_8)\n",
    "pls_dis_0 = nx.average_shortest_path_length(disasso_0)"
   ]
  },
  {
   "cell_type": "code",
   "execution_count": 56,
   "metadata": {},
   "outputs": [
    {
     "ename": "NetworkXError",
     "evalue": "Found infinite path length because the graph is not connected",
     "output_type": "error",
     "traceback": [
      "\u001b[0;31m---------------------------------------------------------------------------\u001b[0m",
      "\u001b[0;31mNetworkXError\u001b[0m                             Traceback (most recent call last)",
      "\u001b[0;32m<ipython-input-56-bbf311e616a4>\u001b[0m in \u001b[0;36m<module>\u001b[0;34m\u001b[0m\n\u001b[1;32m      1\u001b[0m \u001b[0;31m# compute the diameter of assortative graphs\u001b[0m\u001b[0;34m\u001b[0m\u001b[0;34m\u001b[0m\u001b[0;34m\u001b[0m\u001b[0m\n\u001b[0;32m----> 2\u001b[0;31m \u001b[0mdia_asso_2\u001b[0m \u001b[0;34m=\u001b[0m \u001b[0mnx\u001b[0m\u001b[0;34m.\u001b[0m\u001b[0mdiameter\u001b[0m\u001b[0;34m(\u001b[0m\u001b[0masso_2\u001b[0m\u001b[0;34m)\u001b[0m\u001b[0;34m\u001b[0m\u001b[0;34m\u001b[0m\u001b[0m\n\u001b[0m\u001b[1;32m      3\u001b[0m \u001b[0mprint\u001b[0m\u001b[0;34m(\u001b[0m\u001b[0mdia_asso_2\u001b[0m\u001b[0;34m)\u001b[0m\u001b[0;34m\u001b[0m\u001b[0;34m\u001b[0m\u001b[0m\n\u001b[1;32m      4\u001b[0m \u001b[0mdia_asso_4\u001b[0m \u001b[0;34m=\u001b[0m \u001b[0mnx\u001b[0m\u001b[0;34m.\u001b[0m\u001b[0mdiameter\u001b[0m\u001b[0;34m(\u001b[0m\u001b[0masso_4\u001b[0m\u001b[0;34m)\u001b[0m\u001b[0;34m\u001b[0m\u001b[0;34m\u001b[0m\u001b[0m\n\u001b[1;32m      5\u001b[0m \u001b[0mprint\u001b[0m\u001b[0;34m(\u001b[0m\u001b[0mdia_asso_4\u001b[0m\u001b[0;34m)\u001b[0m\u001b[0;34m\u001b[0m\u001b[0;34m\u001b[0m\u001b[0m\n",
      "\u001b[0;32m~/opt/anaconda3/lib/python3.7/site-packages/networkx/algorithms/distance_measures.py\u001b[0m in \u001b[0;36mdiameter\u001b[0;34m(G, e, usebounds)\u001b[0m\n\u001b[1;32m    274\u001b[0m         \u001b[0;32mreturn\u001b[0m \u001b[0mextrema_bounding\u001b[0m\u001b[0;34m(\u001b[0m\u001b[0mG\u001b[0m\u001b[0;34m,\u001b[0m \u001b[0mcompute\u001b[0m\u001b[0;34m=\u001b[0m\u001b[0;34m\"diameter\"\u001b[0m\u001b[0;34m)\u001b[0m\u001b[0;34m\u001b[0m\u001b[0;34m\u001b[0m\u001b[0m\n\u001b[1;32m    275\u001b[0m     \u001b[0;32mif\u001b[0m \u001b[0me\u001b[0m \u001b[0;32mis\u001b[0m \u001b[0;32mNone\u001b[0m\u001b[0;34m:\u001b[0m\u001b[0;34m\u001b[0m\u001b[0;34m\u001b[0m\u001b[0m\n\u001b[0;32m--> 276\u001b[0;31m         \u001b[0me\u001b[0m \u001b[0;34m=\u001b[0m \u001b[0meccentricity\u001b[0m\u001b[0;34m(\u001b[0m\u001b[0mG\u001b[0m\u001b[0;34m)\u001b[0m\u001b[0;34m\u001b[0m\u001b[0;34m\u001b[0m\u001b[0m\n\u001b[0m\u001b[1;32m    277\u001b[0m     \u001b[0;32mreturn\u001b[0m \u001b[0mmax\u001b[0m\u001b[0;34m(\u001b[0m\u001b[0me\u001b[0m\u001b[0;34m.\u001b[0m\u001b[0mvalues\u001b[0m\u001b[0;34m(\u001b[0m\u001b[0;34m)\u001b[0m\u001b[0;34m)\u001b[0m\u001b[0;34m\u001b[0m\u001b[0;34m\u001b[0m\u001b[0m\n\u001b[1;32m    278\u001b[0m \u001b[0;34m\u001b[0m\u001b[0m\n",
      "\u001b[0;32m~/opt/anaconda3/lib/python3.7/site-packages/networkx/algorithms/distance_measures.py\u001b[0m in \u001b[0;36meccentricity\u001b[0;34m(G, v, sp)\u001b[0m\n\u001b[1;32m    239\u001b[0m                 msg = ('Found infinite path length because the graph is not'\n\u001b[1;32m    240\u001b[0m                        ' connected')\n\u001b[0;32m--> 241\u001b[0;31m             \u001b[0;32mraise\u001b[0m \u001b[0mnetworkx\u001b[0m\u001b[0;34m.\u001b[0m\u001b[0mNetworkXError\u001b[0m\u001b[0;34m(\u001b[0m\u001b[0mmsg\u001b[0m\u001b[0;34m)\u001b[0m\u001b[0;34m\u001b[0m\u001b[0;34m\u001b[0m\u001b[0m\n\u001b[0m\u001b[1;32m    242\u001b[0m \u001b[0;34m\u001b[0m\u001b[0m\n\u001b[1;32m    243\u001b[0m         \u001b[0me\u001b[0m\u001b[0;34m[\u001b[0m\u001b[0mn\u001b[0m\u001b[0;34m]\u001b[0m \u001b[0;34m=\u001b[0m \u001b[0mmax\u001b[0m\u001b[0;34m(\u001b[0m\u001b[0mlength\u001b[0m\u001b[0;34m.\u001b[0m\u001b[0mvalues\u001b[0m\u001b[0;34m(\u001b[0m\u001b[0;34m)\u001b[0m\u001b[0;34m)\u001b[0m\u001b[0;34m\u001b[0m\u001b[0;34m\u001b[0m\u001b[0m\n",
      "\u001b[0;31mNetworkXError\u001b[0m: Found infinite path length because the graph is not connected"
     ]
    }
   ],
   "source": [
    "# compute the diameter of assortative graphs\n",
    "dia_asso_2 = nx.diameter(asso_2)\n",
    "print(dia_asso_2)\n",
    "dia_asso_4 = nx.diameter(asso_4)\n",
    "print(dia_asso_4)\n",
    "dia_asso_6 = nx.diameter(asso_6)\n",
    "dia_asso_8 = nx.diameter(asso_8)\n",
    "dia_asso_0 = nx.diameter(asso_0)\n",
    "\n",
    "# compute the diameter of disassortative graphs\n",
    "dia_dis_2 = nx.diameter(disasso_2)\n",
    "print(dia_dis_2)\n",
    "dia_dis_4 = nx.diameter(disasso_4)\n",
    "print(dia_dis_4)\n",
    "dia_dis_6 = nx.diameter(disasso_6)\n",
    "dia_dis_8 = nx.diameter(disasso_8)\n",
    "dia_dis_0 = nx.diameter(disasso_0)"
   ]
  },
  {
   "cell_type": "code",
   "execution_count": null,
   "metadata": {},
   "outputs": [],
   "source": [
    "# your code should create the same dictionaries, where ... is replaced by the respective float\n",
    "avg_pls = {\n",
    "    'assortative': {\n",
    "        '0.2': pls_2,\n",
    "        '0.4': pls_4,\n",
    "        '0.6': pls_6,\n",
    "        '0.8': pls_8,\n",
    "        '1.0': pls_0\n",
    "    },\n",
    "    'disassortative': {\n",
    "        '0.2': pls_dis_2,\n",
    "        '0.4': pls_dis_4,\n",
    "        '0.6': pls_dis_6,\n",
    "        '0.8': pls_dis_8,\n",
    "        '1.0': pls_dis_0\n",
    "    }\n",
    "}\n",
    "\n",
    "diameters = {\n",
    "    'assortative': {\n",
    "        '0.2': dia_asso_2,\n",
    "        '0.4': dia_asso_4,\n",
    "        '0.6': dia_asso_6,\n",
    "        '0.8': dia_asso_8,\n",
    "        '1.0': dia_asso_0\n",
    "    },\n",
    "    'disassortative': {\n",
    "        '0.2': dia_dis_2,\n",
    "        '0.4': dia_dis_4,\n",
    "        '0.6': dia_dis_6,\n",
    "        '0.8': dia_dis_8,\n",
    "        '1.0': dia_dis_0\n",
    "    }\n",
    "}"
   ]
  },
  {
   "cell_type": "markdown",
   "metadata": {},
   "source": [
    "**A4c):** _Please provide your answer regarding your observations here!_"
   ]
  },
  {
   "cell_type": "markdown",
   "metadata": {},
   "source": [
    "#### d) Impact of Assortativity on Robustness (5 pts)\n",
    "\n",
    "Conduct a targeted attack (using the function in the cell below) on the original network as well as the assortative and disassortative rewirings from b) with $p=1$, where in each attack you successively delete 500 nodes (always one at a time), each time the node with the highest degree. Save the graphs that result from your attacks in ``G_attacked``, ``assortative_attacked`` and  ``disassortative_attacked``. Make sure that you do **not** modify ``G`` (task 1a), ``graphs['assortative']['1.0']`` and ``graphs['disassortative']['1.0']`` (both task 3b).\n",
    "\n",
    "For each attacked graph, plot the number of removed nodes against the share of the biggest connected component in the graph. Include the curves of all three graphs in the same plot and store it as **'robustness.png'**. What do you observe?"
   ]
  },
  {
   "cell_type": "code",
   "execution_count": 37,
   "metadata": {},
   "outputs": [],
   "source": [
    "def degree_attack(G: nx.Graph, n: int) -> nx.Graph:\n",
    "    \"\"\"\n",
    "    :param G: networkx graph whose nodes we want to attack\n",
    "    :param n: number of nodes which should be attacked/deleted\n",
    "    :         (always one at the same time - recalculate degrees before deleting next node)\n",
    "    :\n",
    "    :return: resulting networkx graph after deleting n nodes\n",
    "    \"\"\"\n",
    "    Gc = G.copy()\n",
    "    for _ in range(n):\n",
    "        i = sorted(Gc.degree, key=lambda x: x[1], reverse=True)[0][0]\n",
    "        Gc.remove_node(i)\n",
    "    return Gc"
   ]
  },
  {
   "cell_type": "code",
   "execution_count": 39,
   "metadata": {},
   "outputs": [
    {
     "data": {
      "image/png": "[encoded data removed]",
      "text/plain": [
       "<Figure size 720x504 with 1 Axes>"
      ]
     },
     "metadata": {
      "needs_background": "light"
     },
     "output_type": "display_data"
    }
   ],
   "source": [
    "rep = 500 #num of iterations\n",
    "share_original = []\n",
    "# G_attacked = G.copy()\n",
    "N_ori =  G.copy().number_of_nodes()\n",
    "for i in range(rep):\n",
    "    gc = max(len(c) for c in nx.connected_components( G.copy()))\n",
    "    share_original.append(gc/N_ori)\n",
    "    G_attacked = degree_attack( G.copy(),1)\n",
    "    N_ori -= 1 \n",
    "\n",
    "\n",
    "rep = 500 #num of iterations\n",
    "share_assor = []\n",
    "# assortative_attacked = asso_0\n",
    "N_ass = asso_0.number_of_nodes()\n",
    "for i in range(rep):\n",
    "    gc = max(len(c) for c in nx.connected_components(asso_0))\n",
    "    share_assor.append(gc/N_ass)\n",
    "    assortative_attacked = degree_attack(asso_0,1)\n",
    "    N_ass -= 1 \n",
    "\n",
    "    \n",
    "rep = 500 #num of iterations\n",
    "share_disassor = []\n",
    "# disassortative_attacked = disasso_0\n",
    "N_dis = disasso_0.number_of_nodes()\n",
    "for i in range(rep):\n",
    "    gc = max(len(c) for c in nx.connected_components(disasso_0))\n",
    "    share_disassor.append(gc/N_dis)\n",
    "    disassortative_attacked = degree_attack(disasso_0,1)\n",
    "    N_dis -= 1 \n",
    "\n",
    "    \n",
    "plt.figure(figsize=(10,7))\n",
    "plt.plot([x for x in share_original],'-o',label='original network',color='green')\n",
    "plt.plot([x for x in share_assor],'-o',label='assortative rewirings',color='red')\n",
    "plt.plot([x for x in share_disassor],'-o',label='disassortative rewirings',color='blue')\n",
    "plt.xscale('linear')\n",
    "plt.ylabel('Share of Nodes in Giant Component',size=16)\n",
    "plt.xlabel('Nodes Removed',size=16)\n",
    "plt.legend(prop={'size': 16})\n",
    "plt.xticks(size=16)\n",
    "plt.yticks(size=16)\n",
    "\n",
    "plt.legend(fontsize=12)\n",
    "fig = plt.gcf()\n",
    "plt.show()\n",
    "fig.savefig(\"robustness.png\")"
   ]
  },
  {
   "cell_type": "markdown",
   "metadata": {},
   "source": [
    "**A4d):** "
   ]
  }
 ],
 "metadata": {
  "kernelspec": {
   "display_name": "Python 3",
   "language": "python",
   "name": "python3"
  },
  "language_info": {
   "codemirror_mode": {
    "name": "ipython",
    "version": 3
   },
   "file_extension": ".py",
   "mimetype": "text/x-python",
   "name": "python",
   "nbconvert_exporter": "python",
   "pygments_lexer": "ipython3",
   "version": "3.7.4"
  },
  "toc": {
   "base_numbering": 1,
   "nav_menu": {},
   "number_sections": true,
   "sideBar": true,
   "skip_h1_title": false,
   "title_cell": "Table of Contents",
   "title_sidebar": "Contents",
   "toc_cell": false,
   "toc_position": {},
   "toc_section_display": true,
   "toc_window_display": false
  }
 },
 "nbformat": 4,
 "nbformat_minor": 2
}
