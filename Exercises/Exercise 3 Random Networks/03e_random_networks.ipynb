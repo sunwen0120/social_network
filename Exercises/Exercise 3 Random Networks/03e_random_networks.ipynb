{
 "cells": [
  {
   "cell_type": "markdown",
   "metadata": {},
   "source": [
    "## Exercise 3: Random Networks\n"
   ]
  },
  {
   "cell_type": "code",
   "execution_count": 1,
   "metadata": {},
   "outputs": [],
   "source": [
    "import numpy as np\n",
    "import networkx as nx\n",
    "from matplotlib import pyplot as plt"
   ]
  },
  {
   "cell_type": "markdown",
   "metadata": {},
   "source": [
    "### Task 1: Erdos-Renyi Graphs\n",
    "\n",
    "#### a) Implementing Erdos-Renyi Graphs\n",
    "Implement the Erdos-Renyi Random graph model, using the signature in the cell below."
   ]
  },
  {
   "cell_type": "code",
   "execution_count": null,
   "metadata": {},
   "outputs": [],
   "source": [
    "def er_graph(n,p):\n",
    "    \"\"\"\n",
    "    :param n: number of nodes\n",
    "    :param p: edge probability in [0,1]\n",
    "    :\n",
    "    :return: networkx graph\n",
    "    \"\"\"\n",
    "    #your code here\n",
    "    raise NotImplementedError"
   ]
  },
  {
   "cell_type": "markdown",
   "metadata": {},
   "source": [
    "#### b) Diameter\n",
    "\n",
    "Use your implementation to create a random graph with 1000 nodes and average degree 10. What is the diameter of the resulting network? Do you oberve the small-world effect?"
   ]
  },
  {
   "cell_type": "code",
   "execution_count": null,
   "metadata": {},
   "outputs": [],
   "source": []
  },
  {
   "cell_type": "markdown",
   "metadata": {},
   "source": [
    "#### c) Degree Distribution\n",
    "\n",
    "Make use of histograms to plot the degree distribution of the network from b).\n",
    "After that, draw 1000 times from a poisson distribution and plot the histogram of outcomes. Are the resulting plots similar?"
   ]
  },
  {
   "cell_type": "code",
   "execution_count": null,
   "metadata": {},
   "outputs": [],
   "source": []
  },
  {
   "cell_type": "code",
   "execution_count": null,
   "metadata": {},
   "outputs": [],
   "source": []
  },
  {
   "cell_type": "markdown",
   "metadata": {},
   "source": [
    "#### d) Emergence of a Giant Component\n",
    "\n",
    "Use the random graph generator from NetworkX to create 100 random graphs with 300 nodes and average degrees linearly increaing from $k = 0.1$ to $k = 4$.\n",
    "Using these graphs, plot the share of nodes in the largest connected component (on the y-axis) as a function of the average degree (on the x-axis).\n",
    "At what average degree do you observe the emergence of a giant component?"
   ]
  },
  {
   "cell_type": "code",
   "execution_count": 8,
   "metadata": {},
   "outputs": [],
   "source": []
  },
  {
   "cell_type": "markdown",
   "metadata": {},
   "source": [
    "### Task 2: The Watts-Strogatz Model\n"
   ]
  },
  {
   "cell_type": "markdown",
   "metadata": {},
   "source": [
    "####  a)  Creating a Watts-Strogatz Graph\n",
    "Utilize the networkX implementation of the Watts-Strogatz model to create a Watts-Strogatz graph with $N=50$ nodes, average degree $\\langle k\\rangle =4$, and rewiring probability $p = 0.3$. \n",
    "Print some basic statistics of the graph, and consider its average clustering and diameter."
   ]
  },
  {
   "cell_type": "code",
   "execution_count": null,
   "metadata": {},
   "outputs": [],
   "source": []
  },
  {
   "cell_type": "code",
   "execution_count": null,
   "metadata": {},
   "outputs": [],
   "source": []
  },
  {
   "cell_type": "markdown",
   "metadata": {},
   "source": [
    "#### b) Changing the Rewiring Probability\n",
    "Create three graphs with  $N=50$ and $\\langle k\\rangle =4$ as before, but varying rewiring probability $p\\in\\{0.1,0.3,0.9\\}$.\n",
    "Plot each of these graphs using a circular layout, and plot its degree distribution like in task 1c)."
   ]
  },
  {
   "cell_type": "code",
   "execution_count": null,
   "metadata": {},
   "outputs": [],
   "source": []
  },
  {
   "cell_type": "code",
   "execution_count": null,
   "metadata": {},
   "outputs": [],
   "source": []
  },
  {
   "cell_type": "code",
   "execution_count": null,
   "metadata": {},
   "outputs": [],
   "source": []
  },
  {
   "cell_type": "markdown",
   "metadata": {},
   "source": [
    "#### c) Local Clustering versus Average Path Length\n",
    "Finally, we try to recreate the plot of the normalized average path average path length and clustering coefficient.\n",
    "Thus, for $N=600$ and $\\langle k\\rangle = 6$, create graphs with varying rewiring probabilities $p \\in \\{0.001,0.005,0.01,0.02,0.1,1\\}$, and compute both the the average clustering as well as the average shortest path lengths of these graphs. In the end, normalize the average clustering values by the maximum value that has ocurred within these graphs, and the average shortest path length by the maximum possible value 50, and plot the resulting values as line graphs against $p$. "
   ]
  },
  {
   "cell_type": "code",
   "execution_count": null,
   "metadata": {},
   "outputs": [],
   "source": []
  }
 ],
 "metadata": {
  "kernelspec": {
   "display_name": "Python 3",
   "language": "python",
   "name": "python3"
  },
  "language_info": {
   "codemirror_mode": {
    "name": "ipython",
    "version": 3
   },
   "file_extension": ".py",
   "mimetype": "text/x-python",
   "name": "python",
   "nbconvert_exporter": "python",
   "pygments_lexer": "ipython3",
   "version": "3.8.8"
  }
 },
 "nbformat": 4,
 "nbformat_minor": 2
}
