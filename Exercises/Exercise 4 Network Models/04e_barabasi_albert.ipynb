{
 "cells": [
  {
   "cell_type": "markdown",
   "metadata": {},
   "source": [
    "## Exercise 4: The Barabasi-Albert-Model"
   ]
  },
  {
   "cell_type": "code",
   "execution_count": 2,
   "metadata": {},
   "outputs": [],
   "source": [
    "import random\n",
    "import numpy as np\n",
    "import networkx as nx\n",
    "from matplotlib import pyplot as plt"
   ]
  },
  {
   "cell_type": "markdown",
   "metadata": {},
   "source": [
    "### Task 1: The Barabasi-Albert Model\n"
   ]
  },
  {
   "cell_type": "markdown",
   "metadata": {},
   "source": [
    "####  a) Implementing Preferential Attachment\n",
    "Write your own implementation of the Barabasi-Albert (BA) model, using the signature in the cell below. As an initial condition, start with a network with $m$ nodes and no edges."
   ]
  },
  {
   "cell_type": "code",
   "execution_count": null,
   "metadata": {},
   "outputs": [],
   "source": [
    "def ba_graph(n,m):\n",
    "    \"\"\"\n",
    "    :param n: number of nodes\n",
    "    :param m: number of edges per incoming node\n",
    "    :\n",
    "    :return: networkx graph\n",
    "    \"\"\"\n",
    "    # your code here"
   ]
  },
  {
   "cell_type": "markdown",
   "metadata": {},
   "source": [
    "#### b) Basic Statistics\n",
    "Using your implementation, create a BA network with 1000 nodes, and number of edges per joining node $m = 4$. What is the average, minimum and maximum degree of the network? What is its diameter?"
   ]
  },
  {
   "cell_type": "code",
   "execution_count": null,
   "metadata": {},
   "outputs": [],
   "source": []
  },
  {
   "cell_type": "markdown",
   "metadata": {},
   "source": [
    "#### c) Local Clustering\n",
    "For all integer values of $m$ between 5 and 30 create a Barabasi-Albert graph with 300 nodes and $m$ edges per incoming node. Further, for each value $m$, create an Erdos-Renyi graph with (roughly) the same degree as the corresponding Barabasi-Albert graph.  Plot the average local clustering coefficient per network type against the average degree. What do you observe?"
   ]
  },
  {
   "cell_type": "code",
   "execution_count": null,
   "metadata": {},
   "outputs": [],
   "source": []
  },
  {
   "cell_type": "markdown",
   "metadata": {},
   "source": [
    "#### d) Degree Distribution\n",
    "Use your implementation to plot the degree distributions of a BA model with 1000 nodes and m=5. Create a _linear_ and a _log-log_ plot of the degree distribution, where y represents the share of nodes in the graph of a degree x. __Make sure to bin the node frequencies via ```np.logspace``` to obtain less scattered plots - in this task 30 bins would be sufficient.__ Do you observe a power-law degree distribution?"
   ]
  },
  {
   "cell_type": "code",
   "execution_count": null,
   "metadata": {},
   "outputs": [],
   "source": []
  },
  {
   "cell_type": "markdown",
   "metadata": {},
   "source": [
    "### Task 2: Comparing Robustness of Erdos-Renyi and Barabasi-Albert Models\n",
    "\n",
    "In this task we conduct a robustness analysis on Erdos-Renyi and Barabasi-Albert Graphs"
   ]
  },
  {
   "cell_type": "markdown",
   "metadata": {},
   "source": [
    "#### a) Random Attacks\n",
    "\n",
    "Implement a function that performs a random attack of deleting $n$ nodes on a given graph. Use the signature in the cell below."
   ]
  },
  {
   "cell_type": "code",
   "execution_count": null,
   "metadata": {},
   "outputs": [],
   "source": [
    "def random_attack(G,n):\n",
    "    \"\"\"\n",
    "    :param G: networkx graph\n",
    "    :param n: number of nodes to delete\n",
    "    :\n",
    "    :return: copy of G where nodes where deleted\n",
    "    \"\"\"\n",
    "    ## your code here\n"
   ]
  },
  {
   "cell_type": "markdown",
   "metadata": {},
   "source": [
    "#### b) Targeted Attacks \n",
    "\n",
    "Implement a function that performs a targeted attack of deleting the $n$ highest-degree nodes on a given graph. Use the signature in the cell below."
   ]
  },
  {
   "cell_type": "code",
   "execution_count": null,
   "metadata": {},
   "outputs": [],
   "source": [
    "def target_attack(G,n):\n",
    "    \"\"\"\n",
    "    :param G: networkx graph\n",
    "    :param n: number of nodes to delete\n",
    "    :\n",
    "    :return: copy of G where nodes where deleted\n",
    "    \"\"\"\n",
    "    ## your code here"
   ]
  },
  {
   "cell_type": "markdown",
   "metadata": {},
   "source": [
    "#### c) Attacking Random Graphs\n",
    "\n",
    "Create an Erdos-Renyi and a Barabasi-Albert Graph with 1000 nodes and average degree 2 (You may use the `networkx` built-ins now).\n",
    "\n",
    "For both graphs and attack types, conduct 50 consecutive attacks of removing 10 nodes, and plot the number of removed nodes against the share of the biggest connected component in the graph. For each graph, include the curves of both attacks in the same plot. What do you observe?"
   ]
  },
  {
   "cell_type": "code",
   "execution_count": null,
   "metadata": {},
   "outputs": [],
   "source": []
  },
  {
   "cell_type": "code",
   "execution_count": null,
   "metadata": {},
   "outputs": [],
   "source": []
  }
 ],
 "metadata": {
  "kernelspec": {
   "display_name": "Python 3",
   "language": "python",
   "name": "python3"
  },
  "language_info": {
   "codemirror_mode": {
    "name": "ipython",
    "version": 3
   },
   "file_extension": ".py",
   "mimetype": "text/x-python",
   "name": "python",
   "nbconvert_exporter": "python",
   "pygments_lexer": "ipython3",
   "version": "3.8.3"
  }
 },
 "nbformat": 4,
 "nbformat_minor": 2
}
