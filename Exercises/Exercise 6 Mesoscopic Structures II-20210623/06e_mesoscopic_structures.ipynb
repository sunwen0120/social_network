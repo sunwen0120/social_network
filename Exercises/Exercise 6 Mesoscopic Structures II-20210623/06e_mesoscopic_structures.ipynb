{
 "cells": [
  {
   "cell_type": "markdown",
   "metadata": {},
   "source": [
    "## Exercise 6: Mesoscopic Structures\n",
    "\n",
    "\n",
    "Today we are going to continue our analysis on the mesoscopic structure of the Karate club network."
   ]
  },
  {
   "cell_type": "code",
   "execution_count": null,
   "metadata": {},
   "outputs": [],
   "source": [
    "import networkx as nx"
   ]
  },
  {
   "cell_type": "code",
   "execution_count": null,
   "metadata": {},
   "outputs": [],
   "source": [
    "K = nx.karate_club_graph()\n",
    "print(nx.info(K))"
   ]
  },
  {
   "cell_type": "markdown",
   "metadata": {},
   "source": [
    "### Task 1: Finding Communities with the Louvain algorithm\n",
    "\n",
    "Compare the modularity of the best Girvan-Newman partition with the Louvain partition that was obtained in the previous exericse. Since `networkx` does not implement the Louvain algorithm, you have to install a different package for that purpose:\n",
    "Open your command line, activate conda and ```pip install python-louvain```. \n",
    "Note that this Louvain library has some slightly different syntax, and is imported as ```community```.\n",
    "\n",
    "Plot the partitions of the two algorithms side by side."
   ]
  },
  {
   "cell_type": "code",
   "execution_count": null,
   "metadata": {},
   "outputs": [],
   "source": [
    "# make sure that python-louvain has been installed\n",
    "import community as louvain"
   ]
  },
  {
   "cell_type": "code",
   "execution_count": null,
   "metadata": {},
   "outputs": [],
   "source": [
    "# feel free to check the documentation here\n",
    "?louvain.best_partition"
   ]
  },
  {
   "cell_type": "code",
   "execution_count": null,
   "metadata": {},
   "outputs": [],
   "source": []
  },
  {
   "cell_type": "markdown",
   "metadata": {},
   "source": [
    "### Task 2: Random Walks and Communities\n",
    "\n",
    "#### a) Implementing Random Walks\n",
    "\n",
    "Write a function that simulates a random walk of $k$ steps on a network given network. It should first place a random walker at a random node in the network, then take $k$ steps along the edges of the graph, recording the nodes that the walker visits in a list. It should return that list."
   ]
  },
  {
   "cell_type": "code",
   "execution_count": null,
   "metadata": {},
   "outputs": [],
   "source": [
    "def random_walk(G,k):\n",
    "    \"\"\"\n",
    "    :param G: networkx graph\n",
    "    :param k: number of random walk steps to conduct\n",
    "    :\n",
    "    :return:  a list of the IDs of the nodes that were visited\n",
    "    \"\"\"\n",
    "    \n",
    "    # your code here\n",
    "    raise NotImplementedError"
   ]
  },
  {
   "cell_type": "markdown",
   "metadata": {},
   "source": [
    "#### b) A Simple Random Walk\n",
    "Conduct a random walk of 15 steps on the karate club network. \n",
    "Plot the network with the nodes that were visited in that walk being colored in a different color than the rest of the nodes."
   ]
  },
  {
   "cell_type": "code",
   "execution_count": null,
   "metadata": {},
   "outputs": [],
   "source": []
  },
  {
   "cell_type": "markdown",
   "metadata": {},
   "source": [
    "#### c) Monitoring In-Community Walks\n",
    "\n",
    "Let a random walker run for 500 steps over the karate club graph. Map the resulting sequence of nodes to a sequence of 1's and 0's: 1 if the node visited is in the \"Mr. Hi\" group and 0 if the node visited is in the \"Officer\" group. \n",
    "Plot the sequence of ones and zeroes, and calculate how long the walker typically stays within a group. Plot these lengths as a histogram."
   ]
  },
  {
   "cell_type": "code",
   "execution_count": null,
   "metadata": {},
   "outputs": [],
   "source": []
  },
  {
   "cell_type": "code",
   "execution_count": null,
   "metadata": {},
   "outputs": [],
   "source": []
  },
  {
   "cell_type": "markdown",
   "metadata": {},
   "source": [
    "#### d) Extending the Random Walk\n",
    "\n",
    "Now let the walker take 10,000 steps and again plot how long the walker stays in a group. You can use a log-log scale!"
   ]
  },
  {
   "cell_type": "code",
   "execution_count": null,
   "metadata": {},
   "outputs": [],
   "source": []
  },
  {
   "cell_type": "markdown",
   "metadata": {},
   "source": [
    "### Task 3: Comparing Communities in Random and Empirical Graphs\n",
    "\n",
    "#### a) Communities in Random Graphs\n",
    "\n",
    "Generate 100 Erdos-Renyi graphs with 250 nodes and average degree 5. Detect their communities using the Louvain method, and store the modularities of the resulting partitions. Plot the resulting distribution of modularities as a histogram. What do you observe?  "
   ]
  },
  {
   "cell_type": "code",
   "execution_count": null,
   "metadata": {},
   "outputs": [],
   "source": []
  },
  {
   "cell_type": "markdown",
   "metadata": {},
   "source": [
    "#### b)  Comparing the Karate Club's Modularity With a Similar Random Network\n",
    "\n",
    "Load the Karate club graph and create 200 Erdos-Renyi graphs with the same number of nodes and average degree as the Karate Club graph. Calculate their modularities under a Louvain partition. Then calculate the modularity of the Louvain partition of the real Karate club network. Plot the distribution of Erdos Renyi modularities as a histogram and indicate with a vertical red line the true network's Louvain modularity."
   ]
  },
  {
   "cell_type": "code",
   "execution_count": null,
   "metadata": {},
   "outputs": [],
   "source": []
  },
  {
   "cell_type": "markdown",
   "metadata": {},
   "source": [
    "#### c) Comparing Karate Club's Modularity With Configuration Models\n",
    "Repeat the process from b) with 200 configuration models that have the same degree distribution as the karate club graph!"
   ]
  },
  {
   "cell_type": "code",
   "execution_count": null,
   "metadata": {},
   "outputs": [],
   "source": []
  },
  {
   "cell_type": "markdown",
   "metadata": {},
   "source": [
    "### Task 4: Assortativity of the Karate Club Graph\n",
    "\n",
    "#### a) The Degree Correlation Function\n",
    "\n",
    "Write a function that computes the values of degree correlation function $k_{nn}(k)$ for any input graph. Use the signature specified on the cell below!"
   ]
  },
  {
   "cell_type": "code",
   "execution_count": null,
   "metadata": {},
   "outputs": [],
   "source": [
    "def knn(G):\n",
    "    \"\"\"\n",
    "    :param G: networkx graph\n",
    "    :\n",
    "    :return:  a dictionary where the keys are the node degrees occurring in the graph, \n",
    "    :         and the values correspond to the average correlation $k_nn(k)$!\n",
    "    \"\"\"\n",
    "    \n",
    "    # your code here\n",
    "    raise NotImplementedError"
   ]
  },
  {
   "cell_type": "markdown",
   "metadata": {},
   "source": [
    "#### b) Assortativity of the Karate Club Graph\n",
    "\n",
    "Compute the degree assortativity coefficient of the karate club graph, and use your implementation from a) to plot each degree $k$ against $k_{nn}(k)$. Do you think this network is assortative or disassortative? Justify your answer!"
   ]
  },
  {
   "cell_type": "code",
   "execution_count": null,
   "metadata": {},
   "outputs": [],
   "source": []
  }
 ],
 "metadata": {
  "kernelspec": {
   "display_name": "Python 3",
   "language": "python",
   "name": "python3"
  },
  "language_info": {
   "codemirror_mode": {
    "name": "ipython",
    "version": 3
   },
   "file_extension": ".py",
   "mimetype": "text/x-python",
   "name": "python",
   "nbconvert_exporter": "python",
   "pygments_lexer": "ipython3",
   "version": "3.8.8"
  }
 },
 "nbformat": 4,
 "nbformat_minor": 2
}
