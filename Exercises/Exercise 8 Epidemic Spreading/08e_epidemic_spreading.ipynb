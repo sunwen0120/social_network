{
 "cells": [
  {
   "cell_type": "markdown",
   "metadata": {},
   "source": [
    "## Exercise 8: Epidemic Spreading\n",
    "\n",
    "Today we are going to simulate SI models on random networks. We will write some functions to simulate spreading and compare how network topology influences spreading."
   ]
  },
  {
   "cell_type": "code",
   "execution_count": null,
   "metadata": {},
   "outputs": [],
   "source": [
    "import networkx as nx\n",
    "import matplotlib.pyplot as plt"
   ]
  },
  {
   "cell_type": "markdown",
   "metadata": {},
   "source": [
    "### Task 1: Initializing a Graph\n",
    "\n",
    "__a)__ Write a function that takes as input a networkx graph ```G``` and adds a node attribute to every node which represents whether the corresponding node is infected or susceptible - the values can be either 0 for _susceptible_, or 1 for _infected_. In the initialization, only one node - our patient zero - should be infected, and the rest should be left susceptible. Use the signature specified in the cell below!"
   ]
  },
  {
   "cell_type": "code",
   "execution_count": null,
   "metadata": {},
   "outputs": [],
   "source": [
    "def initialize_graph(G, attr=\"state\"):\n",
    "    \"\"\"\n",
    "    :param G: networkx graph\n",
    "    :param attr: string specifying the node attribute \n",
    "    :\n",
    "    :return: resulting networkx graph\n",
    "    \"\"\"\n",
    "    # your code here"
   ]
  },
  {
   "cell_type": "markdown",
   "metadata": {},
   "source": [
    "__b)__ Apply your function from a) on an Erdos-Renyi-Graph with $N=200$ nodes and $p=0.05$. Draw the graph in a way that all susceptible nodes are colored green, and all infected nodes are colored red!"
   ]
  },
  {
   "cell_type": "code",
   "execution_count": null,
   "metadata": {},
   "outputs": [],
   "source": []
  },
  {
   "cell_type": "code",
   "execution_count": null,
   "metadata": {},
   "outputs": [],
   "source": []
  },
  {
   "cell_type": "markdown",
   "metadata": {},
   "source": [
    "### Task 2: Simulating the SI model\n",
    "\n",
    "__a)__ Write a function that simulates one step of the spreading according to the SI model, using the signature in the cell below!"
   ]
  },
  {
   "cell_type": "code",
   "execution_count": null,
   "metadata": {},
   "outputs": [],
   "source": [
    "def spread_SI(G, beta, attr=\"state\"):\n",
    "    \"\"\"\n",
    "    :param G: networkx graph\n",
    "    :param beta: probability that an infected individual infects one of his neighbors \n",
    "    :param attr: string specifying the node attribute which indicates whether or not\n",
    "    :            the corresponding individual is infected\n",
    "    :            -> should take value 0 if the corresponding individual susceptible, and 1 if the individual is infected\n",
    "    :\n",
    "    :return: nothing, input graph G should be edited in-place, i.e. as a side-effect!\n",
    "    \"\"\"\n",
    "    # your code here"
   ]
  },
  {
   "cell_type": "markdown",
   "metadata": {},
   "source": [
    "__b)__ Apply your implementation from a) to simulate the spreading of an infection according to the SI model. First visualize the spreading by drawing the network with $\\beta=1$ for 5 time steps, then simulate the spreading within the first 20 time steps on the same initial random graph created in task 1, for different values $\\beta \\in\\{ 0.1,0.2,\\dots,1\\}$.\n",
    "At each step compute the fraction of nodes that are currently infected, and plot this fraction against the number of time steps for each value of $\\beta$! Use the same plot for all of the resulting curves."
   ]
  },
  {
   "cell_type": "code",
   "execution_count": null,
   "metadata": {},
   "outputs": [],
   "source": []
  },
  {
   "cell_type": "code",
   "execution_count": null,
   "metadata": {},
   "outputs": [],
   "source": []
  },
  {
   "cell_type": "markdown",
   "metadata": {},
   "source": [
    "### Task 3: Simulating Epidemics on Other Network Models\n",
    "\n",
    "__a)__ Repeat the analysis from task 2 with a Barabasi-Albert network instead of an Erdos-Renyi network, using $n=200$ nodes and $m = 4$. First visualize the spreading by drawing the network with $\\beta = 1$, then plot the percent of infected nodes over time for different values of $\\beta$. "
   ]
  },
  {
   "cell_type": "code",
   "execution_count": null,
   "metadata": {},
   "outputs": [],
   "source": []
  },
  {
   "cell_type": "markdown",
   "metadata": {},
   "source": [
    "__b)__ Repeat the analysis from task 2 with a stochastic block model consisting of two communities of 100 nodes each, with probability of within community edges being 0.05, between community edges probability being 0.001. First visualize the spreading by drawing the network with $\\beta = 1$, then plot the percent of infected nodes over time for different betas."
   ]
  },
  {
   "cell_type": "code",
   "execution_count": null,
   "metadata": {},
   "outputs": [],
   "source": []
  }
 ],
 "metadata": {
  "kernelspec": {
   "display_name": "Python 3",
   "language": "python",
   "name": "python3"
  },
  "language_info": {
   "codemirror_mode": {
    "name": "ipython",
    "version": 3
   },
   "file_extension": ".py",
   "mimetype": "text/x-python",
   "name": "python",
   "nbconvert_exporter": "python",
   "pygments_lexer": "ipython3",
   "version": "3.8.3"
  }
 },
 "nbformat": 4,
 "nbformat_minor": 2
}
