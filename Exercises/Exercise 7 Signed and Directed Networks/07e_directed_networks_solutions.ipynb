{
 "cells": [
  {
   "cell_type": "markdown",
   "metadata": {},
   "source": [
    "## Exercise 7: Directed Networks\n",
    "\n",
    "\n",
    "Today we will analyze a directed social network of university students from Australia living in dormitory. Students were asked to name their friends in the dormitory.\n",
    "\n",
    "__Reference:__\n",
    "L. C. Freeman, C. M. Webster and D. M. Kirke (1998) \"Exploring social structure using dynamic three-dimensional color images.\" Social Networks 20, 109-118"
   ]
  },
  {
   "cell_type": "code",
   "execution_count": 1,
   "metadata": {},
   "outputs": [],
   "source": [
    "import networkx as nx\n",
    "import numpy as np\n",
    "import random\n",
    "import matplotlib.pyplot as plt\n"
   ]
  },
  {
   "cell_type": "code",
   "execution_count": 2,
   "metadata": {},
   "outputs": [],
   "source": [
    "adj=np.loadtxt('australian_adj_mat.csv', delimiter=\",\", skiprows=1)\n",
    "G=nx.from_numpy_matrix(adj,create_using=nx.DiGraph)"
   ]
  },
  {
   "cell_type": "code",
   "execution_count": 3,
   "metadata": {},
   "outputs": [
    {
     "name": "stdout",
     "output_type": "stream",
     "text": [
      "Name: \n",
      "Type: DiGraph\n",
      "Number of nodes: 217\n",
      "Number of edges: 2672\n",
      "Average in degree:  12.3134\n",
      "Average out degree:  12.3134\n"
     ]
    }
   ],
   "source": [
    "print(nx.info(G))"
   ]
  },
  {
   "cell_type": "markdown",
   "metadata": {},
   "source": [
    "## Task 1: Reciprocity\n",
    "\n",
    "__a)__ Calculate the reciprocity using networkx, then test its statistical significance in the following way:\n",
    "1. Write a rewiring function that takes a networkx graph, randomly selects two edges, and swaps them: if A->B and C->D are selected, the graph should be modified to have the edges A->D and C->B.\n",
    "2. Make a 100 copies of your graph. In each of these graphs, call your rewiring function 1,000 times. Calculate the reciprocity of each the resulting rewired networks, and store it in a list.\n",
    "3. Calculate the Z-score of the observed reciprocity \n",
    "4. Plot a histogram of the randomized reciprocities and add a vertical line at the observed reciprocity."
   ]
  },
  {
   "cell_type": "code",
   "execution_count": 4,
   "metadata": {},
   "outputs": [
    {
     "name": "stdout",
     "output_type": "stream",
     "text": [
      "0.6235029940119761\n"
     ]
    }
   ],
   "source": [
    "observed_reciprocity = nx.reciprocity(G)\n",
    "print(observed_reciprocity)"
   ]
  },
  {
   "cell_type": "code",
   "execution_count": 5,
   "metadata": {},
   "outputs": [],
   "source": [
    "def swap(graph):\n",
    "    e1, e2=random.sample(graph.edges(),2)\n",
    "    A,B = e1\n",
    "    C,D = e2\n",
    "    graph.remove_edges_from([e1,e2])\n",
    "    graph.add_edges_from([(A,D),(C,B)])\n",
    "    return graph"
   ]
  },
  {
   "cell_type": "code",
   "execution_count": 6,
   "metadata": {},
   "outputs": [],
   "source": [
    "randomized_graphs = []\n",
    "randomized_reciprocities = []\n",
    "\n",
    "for _ in range(100):\n",
    "    R = G.copy()\n",
    "    for rewire in range(1000):\n",
    "        R=swap(R)\n",
    "    randomized_graphs.append(R)\n",
    "    randomized_reciprocities.append(nx.reciprocity(R))"
   ]
  },
  {
   "cell_type": "code",
   "execution_count": 7,
   "metadata": {},
   "outputs": [
    {
     "data": {
      "text/plain": [
       "51.22295148418418"
      ]
     },
     "execution_count": 7,
     "metadata": {},
     "output_type": "execute_result"
    }
   ],
   "source": [
    "z = (observed_reciprocity - np.mean(randomized_reciprocities))/\\\n",
    "            (np.std(randomized_reciprocities))\n",
    "z"
   ]
  },
  {
   "cell_type": "code",
   "execution_count": 8,
   "metadata": {},
   "outputs": [
    {
     "data": {
      "text/plain": [
       "<matplotlib.lines.Line2D at 0x16f029c0d30>"
      ]
     },
     "execution_count": 8,
     "metadata": {},
     "output_type": "execute_result"
    },
    {
     "data": {
      "image/png": "[encoded data removed]",
      "text/plain": [
       "<Figure size 432x288 with 1 Axes>"
      ]
     },
     "metadata": {
      "needs_background": "light"
     },
     "output_type": "display_data"
    }
   ],
   "source": [
    "plt.hist(randomized_reciprocities)\n",
    "plt.axvline(observed_reciprocity)"
   ]
  },
  {
   "cell_type": "markdown",
   "metadata": {},
   "source": [
    "__b)__ Make an experiment to test how many edge swaps are needed to really randomize the graph. You can test this by calculating the reciprocity after every 100 swaps and observing when the reciprocity converges to a certain range."
   ]
  },
  {
   "cell_type": "code",
   "execution_count": 9,
   "metadata": {},
   "outputs": [
    {
     "data": {
      "text/plain": [
       "Text(0, 0.5, 'Reciprocity')"
      ]
     },
     "execution_count": 9,
     "metadata": {},
     "output_type": "execute_result"
    },
    {
     "data": {
      "image/png": "[encoded data removed]",
      "text/plain": [
       "<Figure size 432x288 with 1 Axes>"
      ]
     },
     "metadata": {
      "needs_background": "light"
     },
     "output_type": "display_data"
    }
   ],
   "source": [
    "R = G.copy()\n",
    "reciprocities = []\n",
    "for _ in range(5000):\n",
    "    if _ % 100 == 0:\n",
    "        reciprocities.append(nx.reciprocity(R))\n",
    "    R=swap(R)\n",
    "plt.plot(reciprocities)\n",
    "plt.xlabel('# of edge swaps*100')\n",
    "plt.ylabel('Reciprocity')"
   ]
  },
  {
   "cell_type": "markdown",
   "metadata": {},
   "source": [
    "## Task 2: Triadic Census\n",
    "\n",
    "__a)__ Use networkx's implementation to carry out a tradic census of the given graph. \n",
    "\n",
    "#### Motif definitions\n",
    "![Motifs](census.png)"
   ]
  },
  {
   "cell_type": "code",
   "execution_count": 10,
   "metadata": {},
   "outputs": [],
   "source": [
    "observed_triads=nx.triadic_census(G) \n",
    "motifs = list(observed_triads.keys())"
   ]
  },
  {
   "cell_type": "code",
   "execution_count": 11,
   "metadata": {},
   "outputs": [
    {
     "data": {
      "text/plain": [
       "{'003': 1316425,\n",
       " '012': 181266,\n",
       " '102': 153288,\n",
       " '021D': 3324,\n",
       " '021U': 2647,\n",
       " '021C': 3006,\n",
       " '111D': 6017,\n",
       " '111U': 6120,\n",
       " '030T': 391,\n",
       " '030C': 5,\n",
       " '201': 3858,\n",
       " '120D': 550,\n",
       " '120U': 399,\n",
       " '120C': 275,\n",
       " '210': 1297,\n",
       " '300': 712}"
      ]
     },
     "execution_count": 11,
     "metadata": {},
     "output_type": "execute_result"
    }
   ],
   "source": [
    "observed_triads"
   ]
  },
  {
   "cell_type": "markdown",
   "metadata": {},
   "source": [
    "__b)__ Reuse the 1000 randomizations of the network from task 1a) and carry out a triadic census on each of these. Afterwards, generate z-scores for each motif. Which are the over and under represented motifs in our given graph?"
   ]
  },
  {
   "cell_type": "code",
   "execution_count": 12,
   "metadata": {},
   "outputs": [],
   "source": [
    "randomized_censuses = {motif:[] for motif in motifs}\n",
    "\n",
    "for R in randomized_graphs:\n",
    "    randomized_census=nx.triadic_census(R)\n",
    "    for motif in motifs:\n",
    "        randomized_censuses[motif].append(randomized_census[motif])"
   ]
  },
  {
   "cell_type": "code",
   "execution_count": 13,
   "metadata": {},
   "outputs": [],
   "source": [
    "z_scores ={}\n",
    "for motif in motifs:\n",
    "    z_scores[motif]=round(\n",
    "        (observed_triads[motif]-np.mean(randomized_censuses[motif]))/\\\n",
    "            np.std(randomized_censuses[motif]),3)"
   ]
  },
  {
   "cell_type": "code",
   "execution_count": 15,
   "metadata": {},
   "outputs": [
    {
     "data": {
      "text/plain": [
       "[('012', -46.633),\n",
       " ('021C', -32.349),\n",
       " ('021U', -30.071),\n",
       " ('021D', -24.521),\n",
       " ('030C', -13.631),\n",
       " ('030T', -13.528),\n",
       " ('120C', -3.47),\n",
       " ('111D', 11.598),\n",
       " ('111U', 12.251),\n",
       " ('120U', 13.045),\n",
       " ('120D', 22.533),\n",
       " ('003', 27.493),\n",
       " ('102', 59.096),\n",
       " ('210', 64.98),\n",
       " ('201', 67.419),\n",
       " ('300', 203.617)]"
      ]
     },
     "execution_count": 15,
     "metadata": {},
     "output_type": "execute_result"
    }
   ],
   "source": [
    "sorted(z_scores.items(),key=lambda x: x[1])"
   ]
  },
  {
   "cell_type": "markdown",
   "metadata": {},
   "source": [
    "## Task 3: Flow Hierarchy\n",
    "\n",
    "Calculate the flow hierarchy using networkx and, once again, compute its corresponding z-score based on the 100 randomizations from task 1). Is there is a hierarchy in the social network?"
   ]
  },
  {
   "cell_type": "code",
   "execution_count": 16,
   "metadata": {},
   "outputs": [
    {
     "name": "stdout",
     "output_type": "stream",
     "text": [
      "0.0052395209580838875\n"
     ]
    }
   ],
   "source": [
    "observed_hierarchy = nx.flow_hierarchy(G)\n",
    "print(observed_hierarchy)"
   ]
  },
  {
   "cell_type": "code",
   "execution_count": 17,
   "metadata": {},
   "outputs": [
    {
     "name": "stdout",
     "output_type": "stream",
     "text": [
      "-0.5354272179917264\n"
     ]
    }
   ],
   "source": [
    "randomized_hierarchies = []\n",
    "\n",
    "for R in randomized_graphs:\n",
    "    randomized_hierarchies.append(nx.flow_hierarchy(R))\n",
    "    \n",
    "z = (observed_hierarchy - np.mean(randomized_hierarchies))/(np.std(randomized_hierarchies))\n",
    "print(z)"
   ]
  }
 ],
 "metadata": {
  "kernelspec": {
   "display_name": "Python 3",
   "language": "python",
   "name": "python3"
  },
  "language_info": {
   "codemirror_mode": {
    "name": "ipython",
    "version": 3
   },
   "file_extension": ".py",
   "mimetype": "text/x-python",
   "name": "python",
   "nbconvert_exporter": "python",
   "pygments_lexer": "ipython3",
   "version": "3.7.4"
  },
  "toc": {
   "base_numbering": 1,
   "nav_menu": {},
   "number_sections": true,
   "sideBar": true,
   "skip_h1_title": false,
   "title_cell": "Table of Contents",
   "title_sidebar": "Contents",
   "toc_cell": false,
   "toc_position": {},
   "toc_section_display": true,
   "toc_window_display": false
  }
 },
 "nbformat": 4,
 "nbformat_minor": 2
}
