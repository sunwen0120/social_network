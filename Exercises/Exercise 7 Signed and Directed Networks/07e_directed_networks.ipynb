{
 "cells": [
  {
   "cell_type": "markdown",
   "metadata": {},
   "source": [
    "## Exercise 7: Directed Networks\n",
    "\n",
    "\n",
    "Today we will analyze a directed social network of university students from Australia living in dormitory. Students were asked to name their friends in the dormitory.\n",
    "\n",
    "__Reference:__\n",
    "L. C. Freeman, C. M. Webster and D. M. Kirke (1998) \"Exploring social structure using dynamic three-dimensional color images.\" Social Networks 20, 109-118"
   ]
  },
  {
   "cell_type": "code",
   "execution_count": 1,
   "metadata": {},
   "outputs": [],
   "source": [
    "import networkx as nx\n",
    "import numpy as np\n",
    "import random\n",
    "import matplotlib.pyplot as plt"
   ]
  },
  {
   "cell_type": "code",
   "execution_count": 2,
   "metadata": {},
   "outputs": [],
   "source": [
    "adj=np.loadtxt('australian_adj_mat.csv', delimiter=\",\", skiprows=1)\n",
    "G=nx.from_numpy_matrix(adj,create_using=nx.DiGraph)"
   ]
  },
  {
   "cell_type": "code",
   "execution_count": 3,
   "metadata": {},
   "outputs": [
    {
     "name": "stdout",
     "output_type": "stream",
     "text": [
      "Name: \n",
      "Type: DiGraph\n",
      "Number of nodes: 217\n",
      "Number of edges: 2672\n",
      "Average in degree:  12.3134\n",
      "Average out degree:  12.3134\n"
     ]
    }
   ],
   "source": [
    "print(nx.info(G))"
   ]
  },
  {
   "cell_type": "markdown",
   "metadata": {},
   "source": [
    "## Task 1: Reciprocity\n",
    "\n",
    "__a)__ Calculate the reciprocity using networkx, then test its statistical significance in the following way:\n",
    "1. Write a rewiring function that takes a networkx graph, randomly selects two edges, and swaps them: if A->B and C->D are selected, the graph should be modified to have the edges A->D and C->B.\n",
    "2. Make a 100 copies of your graph. In each of these graphs, call your rewiring function 1,000 times. Calculate the reciprocity of each the resulting rewired networks, and store it in a list.\n",
    "3. Calculate the Z-score of the observed reciprocity \n",
    "4. Plot a histogram of the randomized reciprocities and add a vertical line at the observed reciprocity."
   ]
  },
  {
   "cell_type": "code",
   "execution_count": null,
   "metadata": {},
   "outputs": [],
   "source": []
  },
  {
   "cell_type": "code",
   "execution_count": null,
   "metadata": {},
   "outputs": [],
   "source": []
  },
  {
   "cell_type": "markdown",
   "metadata": {},
   "source": [
    "__b)__ Make an experiment to test how many edge swaps are needed to really randomize the graph. You can test this by calculating the reciprocity after every 100 swaps and observing when the reciprocity converges to a certain range."
   ]
  },
  {
   "cell_type": "code",
   "execution_count": null,
   "metadata": {},
   "outputs": [],
   "source": []
  },
  {
   "cell_type": "markdown",
   "metadata": {},
   "source": [
    "## Task 2: Triadic Census\n",
    "\n",
    "__a)__ Use networkx's implementation to carry out a tradic census of the given graph. \n",
    "\n",
    "#### Motif definitions\n",
    "![Motifs](census.png)"
   ]
  },
  {
   "cell_type": "code",
   "execution_count": null,
   "metadata": {},
   "outputs": [],
   "source": []
  },
  {
   "cell_type": "markdown",
   "metadata": {},
   "source": [
    "__b)__ Reuse the 1000 randomizations of the network from task 1a) and carry out a triadic census on each of these. Afterwards, generate z-scores for each motif. Which are the over and under represented motifs in our given graph?"
   ]
  },
  {
   "cell_type": "code",
   "execution_count": null,
   "metadata": {},
   "outputs": [],
   "source": []
  },
  {
   "cell_type": "code",
   "execution_count": null,
   "metadata": {},
   "outputs": [],
   "source": []
  },
  {
   "cell_type": "markdown",
   "metadata": {},
   "source": [
    "## Task 3: Flow Hierarchy\n",
    "\n",
    "Calculate the flow hierarchy using networkx and, once again, compute its corresponding z-score based on the 100 randomizations from task 1). Is there is a hierarchy in the social network?"
   ]
  },
  {
   "cell_type": "code",
   "execution_count": null,
   "metadata": {},
   "outputs": [],
   "source": []
  },
  {
   "cell_type": "code",
   "execution_count": null,
   "metadata": {},
   "outputs": [],
   "source": []
  }
 ],
 "metadata": {
  "kernelspec": {
   "display_name": "Python 3",
   "language": "python",
   "name": "python3"
  },
  "language_info": {
   "codemirror_mode": {
    "name": "ipython",
    "version": 3
   },
   "file_extension": ".py",
   "mimetype": "text/x-python",
   "name": "python",
   "nbconvert_exporter": "python",
   "pygments_lexer": "ipython3",
   "version": "3.8.8"
  }
 },
 "nbformat": 4,
 "nbformat_minor": 2
}
