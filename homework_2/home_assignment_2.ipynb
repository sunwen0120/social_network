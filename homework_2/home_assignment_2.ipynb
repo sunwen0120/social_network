{
 "cells": [
  {
   "cell_type": "markdown",
   "metadata": {},
   "source": [
    "Social Networks SS21\n",
    "\n",
    "# Home Assignment 2\n",
    "\n"
   ]
  },
  {
   "cell_type": "markdown",
   "metadata": {},
   "source": [
    "### General Instructions\n",
    "\n",
    "Submit your solution via Moodle until 23.59pm on Wednesday, June 2nd.\n",
    "Late submissions are accepted for 12 hours following the deadline, with 1/4 of the total possible points deducted from the score.\n",
    "\n",
    "Submit your solutions in teams of 2-4 members.\n",
    "Please denote all members of the team with their student ID and full name in the notebook.\n",
    "Please submit only one notebook per team.\n",
    "Only submit a notebook, do not submit the datasets you used or image files that you have created - these have to be created from your notebook.\n",
    "Also, do NOT compress/zip your submission!\n",
    "\n",
    "Cite ALL your sources for coding this home assignment.\n",
    "In case of plagiarism (copying solutions from other teams or from the internet), ALL team members will be expelled from the course without warning.\n",
    "\n",
    "\n",
    "### Evaluation and Grading\n",
    "\n",
    "Evaluation of your submission is done semi-automatically.\n",
    "Think of it as this notebook being executed once.\n",
    "Afterwards, some test functions are appended to this file and executed respectively.\n",
    "\n",
    "Therefore:\n",
    "* Submit valid _Python3_ code only!\n",
    "* Make sure to restrict yourself to using packages that are automatically installed along with anaconda, plus some additional packages that have been introduced in context of this class. An overview of packages that may be used in this assignment can be found in the file 'environment.yaml'.\n",
    "* Ensure your definitions (functions, classes, methods, variables) follow the specification if\n",
    "  given. The concrete signature and header of a function is usually specified in the task description and via code skeletons.\n",
    "* Again, make sure that all your function as well as variable names match with what we have specified! The automated grading will only match these exact names, and everything that can not be matched will not be graded.\n",
    "* Whenever there is a written task, e.g. task 1b), enter your answer in the specified markdown cell. Do NOT remove or edit the label (e.g. '__A1b):__' ) from the markdown cell, as this will have to be parsed by the grading system and matched to your answer. \n",
    "* Ensure the notebook does not rely on current notebook or system state!\n",
    "  * Use `Kernel --> Restart & Run All` to see if you are using any definitions, variables etc. that \n",
    "    are not in scope anymore.\n",
    "  * Do not rename any of the datasets you use, and load it from the same directory that your ipynb-notebook is located in, i.e., your working directory. In particular, when loading your file via a pandas or numpy command, make sure that it has the form `nx.read_edgelist(\"example.edgelist\")` instead of `nx.read_edgelist(\"C:/User/Path/to/your/Homework/example.edgelist\")` so that the code directly works from our machines.\n",
    "* Make sure that your code is executable, any task for which the code does not directly run on our machine will be graded with 0 points. Run your notebook from top to bottom, make sure there is no error!\n",
    "  Minimize usage of global variables. Do not reuse variable names multiple times!\n",
    "* Ensure your code/notebook terminates in reasonable time.\n",
    "* Textual answers must always be backed by code and may not refer to results that are not part of\n",
    "  your submission.\n",
    "\n",
    "\n",
    "**There's a story behind each of these points! Don't expect us to fix your stuff!**"
   ]
  },
  {
   "cell_type": "markdown",
   "metadata": {},
   "source": [
    "##### List team members, including all student IDs, in the cell below:"
   ]
  },
  {
   "cell_type": "code",
   "execution_count": 1,
   "metadata": {},
   "outputs": [],
   "source": [
    "# credentials of all team members (you may add or remove items from the list)\n",
    "team_members = [\n",
    "    {\n",
    "        'first_name': 'Alice',\n",
    "        'last_name': 'Foo',\n",
    "        'student_id': 12345\n",
    "    },\n",
    "    {\n",
    "        'first_name': 'Bob',\n",
    "        'last_name': 'Bar',\n",
    "        'student_id': 54321\n",
    "    },\n",
    "    {\n",
    "        'first_name': 'J',\n",
    "        'last_name': 'Doe',\n",
    "        'student_id': 90000\n",
    "    }\n",
    "]"
   ]
  },
  {
   "cell_type": "code",
   "execution_count": 2,
   "metadata": {},
   "outputs": [],
   "source": [
    "# general immports may go here!\n",
    "import networkx as nx\n",
    "import numpy as np\n",
    "import math\n",
    "from typing import List, Optional, Tuple, Dict"
   ]
  },
  {
   "cell_type": "markdown",
   "metadata": {},
   "source": [
    "### Task 1: Attacking the Train Bombing Network (22 pts)\n",
    "\n",
    "We revisit the train bombing network from home assignment 1. This time, our focus lies on attacking the network."
   ]
  },
  {
   "cell_type": "code",
   "execution_count": 3,
   "metadata": {},
   "outputs": [
    {
     "name": "stdout",
     "output_type": "stream",
     "text": [
      "Name: \n",
      "Type: Graph\n",
      "Number of nodes: 64\n",
      "Number of edges: 243\n",
      "Average degree:   7.5938\n"
     ]
    }
   ],
   "source": [
    "G = nx.read_weighted_edgelist(\"train.edgelist\", comments='%')\n",
    "print(nx.info(G))"
   ]
  },
  {
   "cell_type": "markdown",
   "metadata": {},
   "source": [
    "#### a) Analyzing the Degree Distribution (2 pts)\n",
    "\n",
    "Plot the degree distribution of the network and save it into a file **\"train_degree.png\"**. Do not remove the lines of your code which create and save your .png file. Argue whether or not it follows a power-law distribution!"
   ]
  },
  {
   "cell_type": "code",
   "execution_count": 6,
   "metadata": {},
   "outputs": [
    {
     "data": {
      "image/png": "[encoded data removed]",
      "text/plain": [
       "<Figure size 432x288 with 1 Axes>"
      ]
     },
     "metadata": {
      "needs_background": "light"
     },
     "output_type": "display_data"
    },
    {
     "data": {
      "text/plain": [
       "<Figure size 432x288 with 0 Axes>"
      ]
     },
     "metadata": {},
     "output_type": "display_data"
    }
   ],
   "source": [
    "from matplotlib import pyplot as plt\n",
    "degrees = list(dict(nx.degree(G)).values())\n",
    "n, bins, patches= plt.hist(degrees, density=True, facecolor='blue', alpha=0.75);\n",
    "plt.show()\n",
    "plt.savefig(\"train_degree.png\")"
   ]
  },
  {
   "cell_type": "markdown",
   "metadata": {},
   "source": [
    "**A1a):** _Please provide your answer regarding the power-law distribution here!_"
   ]
  },
  {
   "cell_type": "markdown",
   "metadata": {},
   "source": [
    "#### b) Attacking Nodes (6 pts)\n",
    "\n",
    "In this task we want to attack a network by deleting ``n`` nodes (always one at a time). Implement the following three attack strategies, using the function signatures in the cells below:\n",
    "\n",
    "(i) Deleting ``n`` random nodes,  \n",
    "(ii) Deleting the ``n`` highest degree nodes,  \n",
    "(iii) Deleting the ``n`` nodes with the highest betweenness centrality.\n",
    "\n",
    "Make sure that your implementation does not modify the original input network and that it returns the attacked network! Additionally, for (ii) and (iii), make sure that you always delete only one node at the same time and that you recalculate the degree/betweenness centrality before deciding on the deletion of the next node (until you deleted n nodes).\n",
    "\n",
    "Finally, apply each attack function on the train bombing network, where for each attack type you succesively delete 20 nodes. For each attack type start with a new (not attacked) copy of the network. Store the attacked networks (after 20 attacks) in ``G_random_attack``, ``G_degree_attack`` and ``G_bc_attack``. Plot the number of removed nodes (x-axis) against the share of the biggest connected component in the graph (y-axis) **after each node deletion**. Include the curves of all three attacks in the same plot and save it into a file **\"nodeattack_tbn.png\"**. Do not remove the lines of your code which create and save your .png file. Which attack is the most efficient?\n",
    "\n",
    "_Hint: The task is to plot the share of the giant component after each node deletion, so you should **not** call your attack functions with n=20._"
   ]
  },
  {
   "cell_type": "code",
   "execution_count": null,
   "metadata": {},
   "outputs": [],
   "source": [
    "def random_attack(G: nx.Graph, n: int) -> nx.Graph:\n",
    "    \"\"\"\n",
    "    :param G: networkx graph whose nodes we want to attack\n",
    "    :param n: number of nodes which should be attacked/deleted\n",
    "    :\n",
    "    :return: resulting networkx graph after node deletion\n",
    "    \"\"\"\n",
    "    # your code here (task (i))\n",
    "    raise NotImplementedError"
   ]
  },
  {
   "cell_type": "code",
   "execution_count": null,
   "metadata": {},
   "outputs": [],
   "source": [
    "def degree_attack(G: nx.Graph, n: int) -> nx.Graph:\n",
    "    \"\"\"\n",
    "    :param G: networkx graph whose nodes we want to attack\n",
    "    :param n: number of nodes which should be attacked/deleted\n",
    "    :         (always one at the same time - recalculate degrees before deleting next node)\n",
    "    :\n",
    "    :return: resulting networkx graph after deleting n nodes\n",
    "    \"\"\"\n",
    "    # your code here (task (ii))\n",
    "    raise NotImplementedError"
   ]
  },
  {
   "cell_type": "code",
   "execution_count": null,
   "metadata": {},
   "outputs": [],
   "source": [
    "def bc_attack(G: nx.Graph, n: int) -> nx.Graph:\n",
    "    \"\"\"\n",
    "    :param G: networkx graph whose nodes we want to attack\n",
    "    :param n: number of nodes which should be attacked/deleted\n",
    "    :         (always one at the same time - recalculate BC before deleting next node)\n",
    "    :\n",
    "    :return: resulting networkx graph after deleting n nodes\n",
    "    \"\"\"\n",
    "    # your code here (task (iii))\n",
    "    raise NotImplementedError"
   ]
  },
  {
   "cell_type": "code",
   "execution_count": null,
   "metadata": {},
   "outputs": [],
   "source": [
    "G_random_attack = ...\n",
    "G_degree_attack = ...\n",
    "G_bc_attack = ..."
   ]
  },
  {
   "cell_type": "markdown",
   "metadata": {},
   "source": [
    "**A1b):** _Please provide your answer regarding the most efficient node attack here!_"
   ]
  },
  {
   "cell_type": "markdown",
   "metadata": {},
   "source": [
    "#### c) Reconfiguring the Network (5 pts)\n",
    "\n",
    "Create ten configuration model networks with the same degree distribution like the train bombing network. For each of these networks, conduct the same attacks (on 20 nodes) with the same three strategies as in b). For each strategy, compute the average shares of nodes in the giant components over all ten graphs after each node deletion, and plot the average shares against the number of deleted nodes. Again, include the curves for all three attack strategies in the same plot and save it into a file **\"nodeattack_cm.png\"**. Do not remove the lines of your code which create and save your .png file. Which attack is most efficient on average? Would you say that the reconfigured network is more robust toward random and targeted attacks than the original networks? Explain your answers!\n",
    "\n",
    "_Hint: Like in b) you should **not** call your attack functions with n=20._"
   ]
  },
  {
   "cell_type": "code",
   "execution_count": null,
   "metadata": {},
   "outputs": [],
   "source": [
    "# example on how to initialize the configuration model\n",
    "d = dict(G.degree())\n",
    "G_cf = nx.configuration_model(d.values(),create_using=nx.Graph)"
   ]
  },
  {
   "cell_type": "code",
   "execution_count": null,
   "metadata": {},
   "outputs": [],
   "source": []
  },
  {
   "cell_type": "markdown",
   "metadata": {},
   "source": [
    "**A1c):** _Please provide your answer regarding the robustness here!_"
   ]
  },
  {
   "cell_type": "markdown",
   "metadata": {},
   "source": [
    "#### d) Attacking Edges (5 pts)\n",
    "\n",
    "Write two functions which attack an input network by deleting ``n`` edges. The first function should delete random edges, whereas the second function should perform targeted attacks, deleting the ``n`` edges with the highest/lowest value of a specified attribute. Use the function signatures specified in the cells below! \n",
    "\n",
    "Make sure that your implementation does not modify the original input network and that it returns the attacked network! Additionally for ``target_edge_attack``, make sure that you always delete only one edge at the same time and that you recalculate the ``attr`` values before deciding on the deletion of the next edge (until you deleted `n` edges)."
   ]
  },
  {
   "cell_type": "code",
   "execution_count": null,
   "metadata": {},
   "outputs": [],
   "source": [
    "def random_edge_attack(G: nx.Graph, n: int) -> nx.Graph:\n",
    "    \"\"\"\n",
    "    :param G: networkx graph whose edges we want to attack\n",
    "    :param n: number of edges which should be attacked/deleted\n",
    "    :\n",
    "    :return: resulting networkx graph after deleting n edges\n",
    "    \"\"\"\n",
    "    # your code here\n",
    "    raise NotImplementedError"
   ]
  },
  {
   "cell_type": "code",
   "execution_count": null,
   "metadata": {},
   "outputs": [],
   "source": [
    "def target_edge_attack(G: nx.Graph, n: int, attr: str, highest: Optional[bool]=True) -> nx.Graph:\n",
    "    \"\"\"\n",
    "    :param G: networkx graph whose edges we want to attack\n",
    "    :param n: number of edges which should be attacked/deleted\n",
    "    :         (always one at the same time - recalculate attr values before deleting next edge)\n",
    "    :param attr: name of the edge attribute whose values we base our attack on\n",
    "    :param highest: bool indicating whether we want to delete edges with highest or lowest attribute value(s)\n",
    "    :               Use highest values per default (True)\n",
    "    :\n",
    "    :return: resulting networkx graph after deleting n edges\n",
    "    \"\"\"\n",
    "    # your code here\n",
    "    raise NotImplementedError"
   ]
  },
  {
   "cell_type": "markdown",
   "metadata": {},
   "source": [
    "#### e) Deleting Most and Least Bridgy Edges (4 pts)\n",
    "\n",
    "Use the neighborhood overlap function in the cell below (cf. HA 1) to compute the overlap for each edge in the train bombing network. Create a copy of ``G`` called ``G_overlap``. Add the resulting overlap values as edge attributes with the name ``\"overlap\"`` to the corresponding edges of ``G_overlap`` (do not modify ``G``). Apply each of the following three attack types on copies of ``G_overlap`` using 1d), where for each attack type you succesively delete 100 edges:\n",
    "\n",
    "(i) Deleting random edges,  \n",
    "(ii) Deleting the edge with the highest neighborhood overlap,  \n",
    "(iii) Deleting the edges with the lowest neighborhood overlap.\n",
    "\n",
    "For each attack type start with a new (not attacked) copy of the network ``G_overlap``. Store the attacked networks in ``G_overlap_random_attack``, ``G_overlap_highest_attack`` and ``G_overlap_lowest_attack``.\n",
    "\n",
    "Again, for all attack types, plot the number of removed edges against the share of the giant component in the graph. Include the curves of all three attacks in the same plot and save it into a file **\"edgeattack_tbn.png\"**. Do not remove the lines of your code which create and save your .png file.\n",
    "Which attack is the most efficient? Argue why that is the case!\n",
    "\n",
    "_Hint: The task is to plot the share of the giant component after each edge deletion, so you should **not** call your attack functions with n=100._"
   ]
  },
  {
   "cell_type": "code",
   "execution_count": null,
   "metadata": {},
   "outputs": [],
   "source": [
    "def neighborhood_overlap(edge: Tuple[str, str], G: nx.Graph) -> float:\n",
    "    \"\"\"\n",
    "    :param edge: pair of node IDs which indicate the edge we want to compute the node overlap on.\n",
    "    :param G: networkx graph whose nodes we want to check. You may assume that it is undirected, but weighted\n",
    "    :\n",
    "    :return: the node overlap of the given edge as a float \n",
    "    \"\"\"\n",
    "    node1,node2 = edge[0],edge[1]\n",
    "    if not G.has_edge(node1,node2):\n",
    "        return -1\n",
    "    neighbors_node1 = list(nx.neighbors(G,node1))\n",
    "    neighbors_node2 = list(nx.neighbors(G,node2))\n",
    "    intersect = len(set(neighbors_node1).intersection(neighbors_node2))\n",
    "    \n",
    "    if intersect == 0:\n",
    "        return 0\n",
    "    union = len(set(neighbors_node1).union(neighbors_node2).difference(set([node1,node2])))\n",
    "    return intersect/union"
   ]
  },
  {
   "cell_type": "code",
   "execution_count": null,
   "metadata": {},
   "outputs": [],
   "source": [
    "G_overlap = ..."
   ]
  },
  {
   "cell_type": "code",
   "execution_count": null,
   "metadata": {},
   "outputs": [],
   "source": [
    "G_overlap_random_attack = ...\n",
    "G_overlap_highest_attack = ...\n",
    "G_overlap_lowest_attack = ..."
   ]
  },
  {
   "cell_type": "markdown",
   "metadata": {},
   "source": [
    "**A1e):** _Please provide your answer regarding the most efficient edge attack here!_"
   ]
  },
  {
   "cell_type": "markdown",
   "metadata": {},
   "source": [
    "### Task 2: Homophily and Minorities in Social Networks (35 pts)\n",
    "\n",
    "In this task we are going to reproduce some of the results on minorities in social networks which have been presented in lecture.\n",
    "\n",
    "#### a) The Homophilic Preferential Attachment Model (10pts)\n",
    "\n",
    "Implement the homophilic preferential attachment model that was presented in lecture, using the signature in the cell below. We only consider the simple case in which there are only two groups, which have the same homophilic behavior. Recall that next to the parameters $n$ and $m$ from the standard Barabasi-Albert model, this model also takes a homophily parameter $h$, and a minority size parameter $f_m$.  \n",
    "The model is initialized with an empty network of $m$ nodes, in which $\\lceil f_mm \\rceil$ nodes are assigned to the minority, and $\\lfloor (1-f_m)m \\rfloor$ nodes are assigned to the majority group.  \n",
    "Whenever a new node is added, we first toss a coin where with probability $f_m$, the new node gets assigned to the minority group, and to the majority group with probability $1-f_m$.  \n",
    "After a group has been assigned to an arriving node $v_j$, the $m$ nodes $v_i$ to connect to are drawn without replacement from the node-wise probability distribution\n",
    "$$ \\Pi_i = \\frac{h_{ij}k_i}{\\sum_l h_{lj}k_l}, $$\n",
    "where $h_{ij} = h$, if nodes $v_i$ and $v_j$ belong to the same group, and  $h_{ij} = 1-h$ otherwise. \n",
    "Note that for the first incoming node this distribution is not well-defined yet, so you simply have to connect it to each of the initial $m$ nodes."
   ]
  },
  {
   "cell_type": "code",
   "execution_count": null,
   "metadata": {},
   "outputs": [],
   "source": [
    "def homophilic_pa_model(n: int, m: int, h: float, f_m: float, attr: str) -> nx.Graph:\n",
    "    \"\"\"\n",
    "    :param n: number of nodes\n",
    "    :param m: number of links to add for each incoming node\n",
    "    :param h: homophily parameter\n",
    "    :param f_m: probability that an incoming node belongs to the minority group\n",
    "    :param attr: string specifying the name of the node attribute which stores the information \n",
    "    :            whether a node belongs to the majority or minority group. The value of that attribute should be 0 \n",
    "    :            if the node belongs to the minority, and 1 otherwise\n",
    "    :\n",
    "    :return: resulting networkx graph\n",
    "    \"\"\"\n",
    "    # your code here\n",
    "    raise NotImplementedError"
   ]
  },
  {
   "cell_type": "markdown",
   "metadata": {},
   "source": [
    "#### b) Visualizing Homophilic Preferential Attachment (5 pts)\n",
    "\n",
    "Apply your implementation from a) to create five graphs with $n=100$, $m=3$, $f_m=0.2$, and $h$ varying in $\\{0,0.2,0.5,0.8,1\\}$. Plot each of these five graphs using a spring layout, where minority nodes are colored red, and majority nodes are colored blue. In addition, draw the nodes in a size that grows proportional to their degree. Save the plots into files **\"h0.png\"**, **\"h02.png\"**, **\"h05.png\"**, **\"h08.png\"** and **\"h1.png\"**. Do not remove the lines of your code which create and save your .png files."
   ]
  },
  {
   "cell_type": "code",
   "execution_count": null,
   "metadata": {},
   "outputs": [],
   "source": []
  },
  {
   "cell_type": "markdown",
   "metadata": {},
   "source": [
    "#### c) Ranking Bias in Homophilic Networks (10 pts)\n",
    "\n",
    "\n",
    "Apply your implementation from a) to create five graphs with $n=1000$, $m=5$, $f_m=0.2$, and $h$ varying in $\\{0.1,0.3,0.5,0.7,0.9\\}$. For each of these graphs, plot the degree distribution of majority and minority nodes against each other. Save the plots into files **\"dd01.png\"**, **\"dd03.png\"**, **\"dd05.png\"**, **\"dd07.png\"** and **\"dd09.png\"**.\n",
    "Additionally, for each of these graphs, rank the nodes by their degree, and compute the fraction of minority nodes in the top $d$% nodes of that ranking for all $d\\in\\{1,2,3,\\dots,100\\}$. Plot the curves of $d$ against the fraction of minority nodes of all graphs in the same figure, and save the resulting plot into the file **\"fmc.png\"**. Do not remove the lines of your code which create and save your .png files. What do you observe?"
   ]
  },
  {
   "cell_type": "code",
   "execution_count": null,
   "metadata": {},
   "outputs": [],
   "source": []
  },
  {
   "cell_type": "markdown",
   "metadata": {},
   "source": [
    "**A2c):** _Please provide your answer regarding your observations here!_"
   ]
  },
  {
   "cell_type": "markdown",
   "metadata": {},
   "source": [
    "#### d) Individual Node Perception Bias (4 pts)\n",
    "\n",
    "Write a function that computes the node-wise perception bias $B_i$ for all nodes of an input graph. For any node $v_i$ with neighbors $N(v_i)$, the value $B_i$ is given by \n",
    "$$ B_i = \\frac{1}{\\hat{f_m}k_i}\\sum_{v_j \\in N(v_i)} x_j,$$\n",
    "where $\\hat{f_m}$ is the actual fraction of minority nodes in the graph, and $x_j = 1$ if $v_j$ is in the minority group, and $x_j = 0$ otherwise. Use the function signature specified in the cell below:"
   ]
  },
  {
   "cell_type": "code",
   "execution_count": null,
   "metadata": {},
   "outputs": [],
   "source": [
    "def perception_bias(G: nx.Graph, attr: str) -> Dict[str, float]:\n",
    "    \"\"\"\n",
    "    :param G: networkx graph on which we want to compute all biases\n",
    "    :param attr: string specifying the name of the node attribute which stores the information\n",
    "    :            whether a node belongs to the majority or minority group. The value of that attribute should be 0 \n",
    "    :            if the node belongs to the minority, and 1 otherwise\n",
    "    :\n",
    "    :return: dictionary with node IDs as keys and their respective individual perception bias as value\n",
    "    \"\"\"\n",
    "    # your code here\n",
    "    raise NotImplementedError"
   ]
  },
  {
   "cell_type": "markdown",
   "metadata": {},
   "source": [
    "#### e) Perception Bias in Social Networks (6 pts)\n",
    "\n",
    "Apply your function from d) on the graphs created in c) to compute all node-wise perception values. \n",
    "For each of these graphs, compute the average perception bias for nodes in the majority group and minority group. \n",
    "Plot the resulting values using a grouped histogram plot. \n",
    "This plot should consist of five pairs of bars, where each pair represents the average perception biases of the majority and minority in one of the five graphs. The majority bars should be blue, while the minority bars should be red. Store the plot into a file **\"avg_pb.png\"**. Do not remove the lines of your code which create and save your .png file.\n",
    "\n",
    "What do you observe?"
   ]
  },
  {
   "cell_type": "code",
   "execution_count": null,
   "metadata": {},
   "outputs": [],
   "source": []
  },
  {
   "cell_type": "markdown",
   "metadata": {},
   "source": [
    "**A2e):** _Please provide your answer regarding your observations here!_"
   ]
  },
  {
   "cell_type": "markdown",
   "metadata": {},
   "source": [
    "### Task 3: Kronecker Graphs (23 pts)\n",
    "\n",
    "A more recently proposed graph model is built on creating huge graphs out of small base graphs by utilizing the Kronecker matrix product (cf. https://en.wikipedia.org/wiki/Kronecker_product for a definition).\n",
    "The main idea is to take the adjacency matrix $A$ of a small given _initiator graph_ $G$, and then define the Kronecker power graph $G^k$ as the graph whose adjacency matrix is the $k$-th power of $A$ with respect to the Kronecker product. Thus, for $G^2$, the adjacency matrix would be $ A\\otimes A$, for $G^3$ the adjacency matrix would be $A\\otimes A \\otimes A$, and so on.\n",
    "\n",
    "In that kind of model, the entries of the adjacency matrix of the base graph can be seen as model parameters out of which (ideally) any kind of large real-world graph can be grown by simply fitting these parameters accordingly."
   ]
  },
  {
   "cell_type": "markdown",
   "metadata": {},
   "source": [
    "#### a) Implementing the Kronecker Model (4 pts)\n",
    "\n",
    "Write a function that takes as input a base graph $G$ and an exponent $k$, and returns the graph $G^k$, using the signature in the cell below. Make sure to also allow for directed graphs as well, i.e., $ G^k$ should be directed if and only if $G$ is directed.  \n",
    "**Note:** To obtain efficient matrix operations, you may work with ```scipy.sparse```. However, the Kronecker product in ```scipy.sparse``` can introduce zeroes which are explicitly represented in the sparse representation of the resulting matrix. Make sure to eliminate such zeros in time, as ```nx.from_scipy_sparse_matrix``` would create edges with weight 0 from such entries. It is also fine if you only work with ```numpy``` instead of ```scipy.sparse```. "
   ]
  },
  {
   "cell_type": "code",
   "execution_count": null,
   "metadata": {},
   "outputs": [],
   "source": [
    "def kronecker_graph(G: nx.Graph, k: int) -> nx.Graph:\n",
    "    \"\"\"\n",
    "    :param G: initiator graph (networkx graph)\n",
    "    :param k: Kronecker power to compute\n",
    "    :\n",
    "    :return: resulting Kronecker power graph as networkx graph\n",
    "    \"\"\"\n",
    "    # your code here\n",
    "    raise NotImplementedError"
   ]
  },
  {
   "cell_type": "markdown",
   "metadata": {},
   "source": [
    "#### b) Growing Two Simple Base Graphs (6 pts)\n",
    "\n",
    "Consider the following two base graphs specified in the cell below. For each of these two graphs, compute their Kronecker power graphs for $k\\in\\{2,3,4\\}$, and save the resulting graphs into dictionaries `K1_graphs` and `K2_graphs`, where the keys are given by the values of $k$. Further, compute the diameters and densities of these graphs, and save them into dictionaries `K1_diameters`, `K2_diameters`, `K1_densities`, and `K2_densities`, again with using the values of $k$ as key. What do you observe regarding these values?\n",
    "Finally, compute the degree distributions of both resulting graphs for $k = 4$ and save them into files **\"dd_kg1.png\"** and **\"dd_kg2.png\"**. Are the resulting degree distributions likely to occur in real-world graphs? Explain your answers!"
   ]
  },
  {
   "cell_type": "code",
   "execution_count": null,
   "metadata": {},
   "outputs": [],
   "source": [
    "K1 = nx.Graph()\n",
    "K1.add_edges_from([(1,1),(2,2),(3,3),(4,4),(1,2),(2,3),(3,4)])\n",
    "K2 = nx.Graph()\n",
    "K2.add_edges_from([(1,1),(2,2),(3,3),(4,4),(1,2),(2,3),(3,4),(2,4)])"
   ]
  },
  {
   "cell_type": "code",
   "execution_count": null,
   "metadata": {},
   "outputs": [],
   "source": [
    "K1_graphs = ...\n",
    "K2_graphs = ..."
   ]
  },
  {
   "cell_type": "code",
   "execution_count": null,
   "metadata": {},
   "outputs": [],
   "source": [
    "K1_diameters = ...\n",
    "K2_diameters = ...\n",
    "K1_densities = ...\n",
    "K2_densities = ..."
   ]
  },
  {
   "cell_type": "markdown",
   "metadata": {},
   "source": [
    "**A3b):** _Please provide your answer regarding your observations here!_"
   ]
  },
  {
   "cell_type": "markdown",
   "metadata": {},
   "source": [
    "#### c) Stochastic Kronecker Graphs (5 pts)\n",
    "\n",
    "As the expressive power of Kronecker graphs is somewhat limited in a sense that many real-world degree distributions cannot be achieved through this model, there is also a stochastic variant of the Kronecker model.\n",
    "In this variant, the input to the model is a matrix $P$, in which the entries are not binary anymore like in an adjacency matrix, but instead can take any value in the interval $[0,1]$. Thus, each entry $P_{ij}$ encodes a probability that an edge is formed between nodes $i$ and $j$.\n",
    "For a small input matrix $P$, we again grow a bigger matrix by taking its Kronecker powers, and for the final $P^k$we then randomly add edges according to the probabilities in the entries $P^k_{ij}$.\n",
    "\n",
    "Implement this probabilistic variant of the Kronecker model, using the signature in the cell below. Note that this time you cannot use sparse matrices anymore. Further, for this model we exclusively consider directed networks!"
   ]
  },
  {
   "cell_type": "code",
   "execution_count": null,
   "metadata": {},
   "outputs": [],
   "source": [
    "def probabilistic_kronecker(P: np.ndarray, k: int) -> nx.DiGraph:\n",
    "    \"\"\"\n",
    "    :param P: 2D numpy array of edge probabilities to compute the graph from\n",
    "    :param k: Kronecker power to compute\n",
    "    :\n",
    "    :return: resulting Kronecker power graph as a DIRECTED networkx graph\n",
    "    \"\"\"\n",
    "    # your code here\n",
    "    raise NotImplementedError"
   ]
  },
  {
   "cell_type": "markdown",
   "metadata": {},
   "source": [
    "#### d) Fitting Kronecker Graphs (8 pts)\n",
    "\n",
    "We want to apply our implementation from __c)__ to create a graph with $n=1024$ nodes with a desired degree distribution out of a $2\\times 2$ base matrix $P$.\n",
    "Determine  \n",
    "(i) a base matrix $P_1$ such that the resulting graph has a Poisson degree distribution.  \n",
    "(ii) a base matrix $P_2$ such that the resulting graph has a power law degree distribution.\n",
    "\n",
    "Save the corresponding matrices as numpy arrays into variables ```P1``` and ```P2```, and plot the degree distributions (you may use in-degree, out-degree, or their sum) of the resulting graphs for verification in files **\"dd_p1.png\"** and **\"dd_p2.png\"**. Make sure to use proper plots for that purpose!"
   ]
  },
  {
   "cell_type": "code",
   "execution_count": null,
   "metadata": {},
   "outputs": [],
   "source": [
    "P1 = ...\n",
    "P2 = ..."
   ]
  }
 ],
 "metadata": {
  "kernelspec": {
   "display_name": "Python 3",
   "language": "python",
   "name": "python3"
  },
  "language_info": {
   "codemirror_mode": {
    "name": "ipython",
    "version": 3
   },
   "file_extension": ".py",
   "mimetype": "text/x-python",
   "name": "python",
   "nbconvert_exporter": "python",
   "pygments_lexer": "ipython3",
   "version": "3.7.4"
  },
  "toc": {
   "base_numbering": 1,
   "nav_menu": {},
   "number_sections": true,
   "sideBar": true,
   "skip_h1_title": false,
   "title_cell": "Table of Contents",
   "title_sidebar": "Contents",
   "toc_cell": false,
   "toc_position": {},
   "toc_section_display": true,
   "toc_window_display": false
  }
 },
 "nbformat": 4,
 "nbformat_minor": 2
}
