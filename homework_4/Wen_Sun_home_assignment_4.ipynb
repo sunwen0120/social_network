{
 "cells": [
  {
   "cell_type": "markdown",
   "metadata": {},
   "source": [
    "Social Networks SS21\n",
    "\n",
    "# Home Assignment 4\n",
    "\n"
   ]
  },
  {
   "cell_type": "markdown",
   "metadata": {},
   "source": [
    "### General Instructions\n",
    "\n",
    "Submit your solution via Moodle until 23.59pm on Wednesday, July 14th.\n",
    "Late submissions are accepted for 12 hours following the deadline, with 1/4 of the total possible points deducted from the score.\n",
    "\n",
    "Submit your solutions in teams of 2-4 members.\n",
    "Please denote all members of the team with their student ID and full name in the notebook.\n",
    "Please submit only one notebook per team.\n",
    "Only submit a notebook, do not submit the datasets you used or image files that you have created - these have to be created from your notebook.\n",
    "Also, do NOT compress/zip your submission!\n",
    "\n",
    "Cite ALL your sources for coding this home assignment.\n",
    "In case of plagiarism (copying solutions from other teams or from the internet), ALL team members will be expelled from the course without warning.\n",
    "\n",
    "\n",
    "### Evaluation and Grading\n",
    "\n",
    "Evaluation of your submission is done semi-automatically.\n",
    "Think of it as this notebook being executed once.\n",
    "Afterwards, some test functions are appended to this file and executed respectively.\n",
    "\n",
    "Therefore:\n",
    "* Submit valid _Python3_ code only!\n",
    "* Make sure to restrict yourself to using packages that are automatically installed along with anaconda, plus some additional packages that have been introduced in context of this class. An overview of packages that may be used in this assignment can be found in the file 'environment.yaml'.\n",
    "* Ensure your definitions (functions, classes, methods, variables) follow the specification if\n",
    "  given. The concrete signature and header of a function is usually specified in the task description and via code skeletons.\n",
    "* Again, make sure that all your function as well as variable names match with what we have specified! The automated grading will only match these exact names, and everything that can not be matched will not be graded.\n",
    "* Whenever there is a written task, e.g. task 1b), enter your answer in the specified markdown cell. Do NOT remove or edit the label (e.g. '__A1b):__' ) from the markdown cell, as this will have to be parsed by the grading system and matched to your answer. \n",
    "* Ensure the notebook does not rely on current notebook or system state!\n",
    "  * Use `Kernel --> Restart & Run All` to see if you are using any definitions, variables etc. that \n",
    "    are not in scope anymore.\n",
    "  * Do not rename any of the datasets you use, and load it from the same directory that your ipynb-notebook is located in, i.e., your working directory. In particular, when loading your file, make sure that it has the form `nx.read_edgelist(\"example.edgelist\")` instead of `nx.read_edgelist(\"C:/User/Path/to/your/Homework/example.edgelist\")` so that the code directly works from our machines.\n",
    "* Make sure that your code is executable, any task for which the code does not directly run on our machine will be graded with 0 points. Run your notebook from top to bottom, make sure there is no error!\n",
    "  Minimize usage of global variables. Do not reuse variable names multiple times!\n",
    "* Ensure your code/notebook terminates in reasonable time.\n",
    "* For all plots that you save to file, take a look into the resulting png-file to make sure the the plot is properly displayed there! A common error is that people run `plt.show()` before `plt.savefig()`, which resets the current axis and yields an empty plot in the resulting file.\n",
    "* Textual answers must always be backed by code and may not refer to results that are not part of\n",
    "  your submission.\n",
    "\n",
    "\n",
    "**There's a story behind each of these points! Don't expect us to fix your stuff!**"
   ]
  },
  {
   "cell_type": "markdown",
   "metadata": {},
   "source": [
    "##### List team members, including all student IDs, in the cell below:"
   ]
  },
  {
   "cell_type": "code",
   "execution_count": 1,
   "metadata": {},
   "outputs": [],
   "source": [
    "# credentials of all team members (you may add or remove items from the list)\n",
    "team_members = [\n",
    "    {\n",
    "        'first_name': 'Wen',\n",
    "        'last_name': 'Sun',\n",
    "        'student_id': 391587\n",
    "    },\n",
    "    {\n",
    "        'first_name': 'Bob',\n",
    "        'last_name': 'Bar',\n",
    "        'student_id': 54321\n",
    "    },\n",
    "    {\n",
    "        'first_name': 'J',\n",
    "        'last_name': 'Doe',\n",
    "        'student_id': 90000\n",
    "    }\n",
    "]"
   ]
  },
  {
   "cell_type": "code",
   "execution_count": 2,
   "metadata": {},
   "outputs": [],
   "source": [
    "# general immports may go here!\n",
    "import networkx as nx\n",
    "import numpy as np\n",
    "import matplotlib.pyplot as plt\n",
    "import math\n",
    "from typing import List, Optional, Tuple, Dict"
   ]
  },
  {
   "cell_type": "markdown",
   "metadata": {},
   "source": [
    "Submit your solution via Moodle until 23.59pm on Wednesday, July 15th. Late submissions are accepted for 12 hours following the deadline, with 1/3 of the total possible points deducted from the score.\n",
    "\n",
    "Submit your solutions in teams of up 3-4 members.  **Submissions from teams with less members will NOT be graded**.\n",
    "List all members of the team with their student ID and full name in the cell below, and submit only one notebook per team. Only submit a notebook, do not submit the dataset(s) you used.\n",
    "\n",
    "Cite ALL your sources for coding this home assignment. In case of plagiarism (copying solutions from other teams or from the internet) ALL team members will be expelled from the course without warning."
   ]
  },
  {
   "cell_type": "markdown",
   "metadata": {},
   "source": [
    "##### List team members, including all student IDs HERE:\n",
    "1. Student 1 (123456)\n",
    "2. Student 2 (123457)\n",
    "3. Student 3 (123458)\n",
    "3. (optional) Student 4 (123459)"
   ]
  },
  {
   "cell_type": "markdown",
   "metadata": {},
   "source": [
    "#### General guidelines:\n",
    "* Make sure that your code is executable, any task for which the code does directly not run on our machine will be graded with 0 points.\n",
    "* In that regard, do not rename the dataset(s) we give you to work on, and load it from the same directory that your ipynb-notebook is located in, i.e., your working directory. In particular, when loading your file via a pandas or numpy command, make sure that it has the form `nx.read_edgelist(\"file.edgelist\")` instead of `nx.read_edgelist(\"C:/User/Path/to/your/Homework/file.edgelist\")` so that the code directly works from our machines.\n",
    "* Make sure you clean up your code before submission, e.g., properly align your code, and delete every line of code that you do not need anymore, even if you may have experimented with it\n",
    "* Feel free to use comments in the code. While we do not require them to get full marks, they may help us in case your code has minor errors\n",
    "* You may create as many additional cells as you want, just make sure that the solutions to the individual tasks can be found near the corresponding assignment.\n",
    "* Whenever we ask a question that is not about coding but rather your judgement, please do not write the answer as a comment in a code cell, but instead in a markdown cell below the code.\n"
   ]
  },
  {
   "cell_type": "code",
   "execution_count": 3,
   "metadata": {},
   "outputs": [],
   "source": [
    "# load networkx\n",
    "import networkx as nx\n",
    "import numpy as np\n",
    "import matplotlib.pyplot as plt\n",
    "import math\n",
    "import random"
   ]
  },
  {
   "cell_type": "markdown",
   "metadata": {},
   "source": [
    "### Task 1:  Simulating the SIS-Model on Random Graphs (25 pts)\n",
    "\n",
    "\n",
    "#### a) Implementing the SIS model (10 pts)\n",
    "\n",
    "Implement a function that models one timestep of the spreading according to the SIS model. Use the signature specified in the cell below!"
   ]
  },
  {
   "cell_type": "code",
   "execution_count": 4,
   "metadata": {},
   "outputs": [],
   "source": [
    "def spread_SIS(G: nx.Graph, beta: float, mu: float, att: str=\"state\") -> nx.Graph:\n",
    "    \"\"\"\n",
    "    :param G: input networkx graph\n",
    "    :param beta: probability that an infected individual infects one of his neighbors\n",
    "    :param mu: probability that an infected individual has recovered at the next timestep\n",
    "    :param attr: string specifying the name of the node attribute which indicates whether \n",
    "    :            or not the corresponding individual is infected\n",
    "    :             -> should take value 0 if the corresponding individual susceptible, \n",
    "    :                and 1 if the individual is infected\n",
    "    :return: the resulting network after the disease has spread for one round\n",
    "    \"\"\"\n",
    "    \n",
    "    cround = 0\n",
    "    node_states = nx.get_node_attributes(G,attr)\n",
    "    for v in G.nodes():\n",
    "        if node_states[v]==0:\n",
    "            for w in G[v]:\n",
    "                if G.nodes[w][attr]==1:\n",
    "                    if random.random() < beta:\n",
    "                        node_states[v]=1\n",
    "                        print('the patient infected:', v)\n",
    "                        break\n",
    "    nx.set_node_attributes(G,node_states,attr)\n",
    "    \n",
    "    for i in G.nodes():\n",
    "        if node_states[i]==1:\n",
    "            for j in G[i]:\n",
    "                if random.random() < mu:\n",
    "                    node_states[i]=0\n",
    "                    print('the patient is recoverd:', i)\n",
    "                    break\n",
    "#     nx.set_node_attributes(G,node_states,attr)\n",
    "    return G"
   ]
  },
  {
   "cell_type": "code",
   "execution_count": 5,
   "metadata": {},
   "outputs": [],
   "source": [
    "def spread_SIS(G: nx.Graph, beta: float, mu: float, att: str=\"state\") -> nx.Graph:\n",
    "    \"\"\"\n",
    "    :param G: input networkx graph\n",
    "    :param beta: probability that an infected individual infects one of his neighbors\n",
    "    :param mu: probability that an infected individual has recovered at the next timestep\n",
    "    :param attr: string specifying the name of the node attribute which indicates whether \n",
    "    :            or not the corresponding individual is infected\n",
    "    :             -> should take value 0 if the corresponding individual susceptible, \n",
    "    :                and 1 if the individual is infected\n",
    "    :return: the resulting network after the disease has spread for one round\n",
    "    \"\"\"\n",
    "    \n",
    "    goto_change = False\n",
    "    recover_wating_1 = []\n",
    "    recover_wating_2 = []\n",
    "    \n",
    "    \n",
    "    def infected(G,attr, beta):   \n",
    "        node_states=nx.get_node_attributes(G,attr)\n",
    "        for v in G.nodes():\n",
    "            if node_states[v]==0:\n",
    "                for w in G[v]:\n",
    "                    if G.nodes[w][attr]==1:\n",
    "                        if random.random() < beta:\n",
    "                            node_states[v]=1\n",
    "                            print('the patient infected:', v)\n",
    "                            break\n",
    "        nx.set_node_attributes(G,node_states,attr)\n",
    "        return G\n",
    "\n",
    "    def get_recover_patient(G, mu):\n",
    "        node_states = nx.get_node_attributes(G,attr)\n",
    "        recover_list = []\n",
    "        for i in G.nodes():\n",
    "            if node_states[i]==1:\n",
    "                for j in G[i]:\n",
    "                    if random.random() < mu:\n",
    "                        recover_list.append(i)\n",
    "                        print('the patient is recoverd:', recover_list)\n",
    "                        break\n",
    "        return recover_list\n",
    "\n",
    "\n",
    "    def change_infected_into_recover(G,recover_list,attr):\n",
    "        node_states = nx.get_node_attributes(G,attr)\n",
    "        for p in recover_list:\n",
    "            node_states[p]=0\n",
    "        print('actually recover:', recover_list)\n",
    "        nx.set_node_attributes(G,node_states,attr)\n",
    "        return G\n",
    "\n",
    "    \n",
    "    while true:\n",
    "        if recover_wating_1:\n",
    "            goto_change = True\n",
    "        \n",
    "        infected()\n",
    "        \n",
    "        get_recover_patient()\n",
    "        \n",
    "        if goto_change:\n",
    "            change_infected_into_recover()\n",
    "        \n",
    "\n",
    "    \n",
    "    \n",
    "    \n",
    "    \n",
    "    \n",
    "    \n",
    "    return G"
   ]
  },
  {
   "cell_type": "code",
   "execution_count": null,
   "metadata": {},
   "outputs": [],
   "source": [
    "count = 0\n",
    "def fun:\n",
    "    \n",
    "    global count\n",
    "    \n",
    "    count = count + 1\n",
    "    \n",
    "    return True\n",
    "\n"
   ]
  },
  {
   "cell_type": "code",
   "execution_count": 6,
   "metadata": {},
   "outputs": [],
   "source": [
    "def infected(G,attr, beta):   \n",
    "    node_states=nx.get_node_attributes(G,attr)\n",
    "    for v in G.nodes():\n",
    "        if node_states[v]==0:\n",
    "            for w in G[v]:\n",
    "                if G.nodes[w][attr]==1:\n",
    "                    if random.random() < beta:\n",
    "                        node_states[v]=1\n",
    "                        print('the patient infected:', v)\n",
    "                        break\n",
    "    nx.set_node_attributes(G,node_states,attr)\n",
    "    return G"
   ]
  },
  {
   "cell_type": "code",
   "execution_count": 7,
   "metadata": {},
   "outputs": [],
   "source": [
    "def get_recover_patient(G, mu):\n",
    "    node_states = nx.get_node_attributes(G,attr)\n",
    "    recover_list = []\n",
    "    for i in G.nodes():\n",
    "        if node_states[i]==1:\n",
    "            for j in G[i]:\n",
    "                if random.random() < mu:\n",
    "                    recover_list.append(i)\n",
    "                    print('the patient is recoverd:', recover_list)\n",
    "                    break\n",
    "    return recover_list"
   ]
  },
  {
   "cell_type": "code",
   "execution_count": 8,
   "metadata": {},
   "outputs": [],
   "source": [
    "def change_infected_into_recover(G,recover_list,attr):\n",
    "    node_states = nx.get_node_attributes(G,attr)\n",
    "    for p in recover_list:\n",
    "        node_states[p]=0\n",
    "    print('actually recover:', recover_list)\n",
    "    nx.set_node_attributes(G,node_states,attr)\n",
    "    return G"
   ]
  },
  {
   "cell_type": "code",
   "execution_count": 9,
   "metadata": {},
   "outputs": [],
   "source": [
    "def initialize_graph(G, attr=\"state\"):\n",
    "    \"\"\"\n",
    "    :param G: networkx graph\n",
    "    :param attr: string specifying the node attribute \n",
    "    :\n",
    "    :return: resulting networkx graph\n",
    "    \"\"\"\n",
    "    # reducing the network to its biggest component\n",
    "    H = max(nx.connected_component_subgraphs(G), key=len)\n",
    "    intialization={node: 0 for node in G.nodes()} #susceptible\n",
    "    nx.set_node_attributes(H,intialization,attr)\n",
    "    patient_zero=random.choice(list(H.nodes())) #randomly select a node\n",
    "    H.nodes[patient_zero][attr]=1 #change its state to 1 - infected\n",
    "    return H"
   ]
  },
  {
   "cell_type": "code",
   "execution_count": 10,
   "metadata": {},
   "outputs": [],
   "source": [
    "BA = nx.barabasi_albert_graph(100,2)\n",
    "BA0 = initialize_graph(BA, 'state')"
   ]
  },
  {
   "cell_type": "code",
   "execution_count": 11,
   "metadata": {},
   "outputs": [],
   "source": [
    "H = BA0.copy()\n",
    "G = H"
   ]
  },
  {
   "cell_type": "code",
   "execution_count": 12,
   "metadata": {},
   "outputs": [],
   "source": [
    "attr = 'state'\n",
    "goto_change = False\n",
    "recover_wating_1 = []\n",
    "recover_wating_2 = []"
   ]
  },
  {
   "cell_type": "code",
   "execution_count": 13,
   "metadata": {},
   "outputs": [],
   "source": [
    "if recover_wating_1:\n",
    "    goto_change = True"
   ]
  },
  {
   "cell_type": "code",
   "execution_count": 14,
   "metadata": {},
   "outputs": [
    {
     "name": "stdout",
     "output_type": "stream",
     "text": [
      "actually recover: []\n",
      "the patient infected: 62\n",
      "the patient infected: 69\n",
      "the patient infected: 87\n",
      "the patient is recoverd: [57]\n",
      "the patient is recoverd: [57, 62]\n",
      "the patient is recoverd: [57, 62, 69]\n",
      "the patient is recoverd: [57, 62, 69, 87]\n",
      "recover_wating_1 in second: []\n"
     ]
    }
   ],
   "source": [
    "# attr = 'state'\n",
    "# node_states = nx.get_node_attributes(G,attr)\n",
    "\n",
    "# # goto_change = False\n",
    "# recover_wating_1 = []\n",
    "\n",
    "if recover_wating_1 :\n",
    "    infected(G, attr, 0.5)\n",
    "    recover_wating_1 = get_recover_patient(G, 0.8)\n",
    "    print('recover_wating_1 in first:', recover_wating_1)\n",
    "\n",
    "else:\n",
    "    change_infected_into_recover(G, recover_wating_1, attr)\n",
    "    infected(G,attr, 0.5)\n",
    "    recover_wating_2 = get_recover_patient(G, 0.8)\n",
    "#     recover_wating_1 = recover_wating_2\n",
    "    print('recover_wating_1 in second:',recover_wating_1)\n",
    "    recover_wating_2.clear()\n"
   ]
  },
  {
   "cell_type": "code",
   "execution_count": 15,
   "metadata": {},
   "outputs": [
    {
     "name": "stdout",
     "output_type": "stream",
     "text": [
      "{0: 0, 1: 0, 2: 0, 3: 0, 4: 0, 5: 0, 6: 0, 7: 0, 8: 0, 9: 0, 10: 0, 11: 0, 12: 0, 13: 0, 14: 0, 15: 0, 16: 0, 17: 0, 18: 0, 19: 0, 20: 0, 21: 0, 22: 0, 23: 0, 24: 0, 25: 0, 26: 0, 27: 0, 28: 0, 29: 0, 30: 0, 31: 0, 32: 0, 33: 0, 34: 0, 35: 0, 36: 0, 37: 0, 38: 0, 39: 0, 40: 0, 41: 0, 42: 0, 43: 0, 44: 0, 45: 0, 46: 0, 47: 0, 48: 0, 49: 0, 50: 0, 51: 0, 52: 0, 53: 0, 54: 0, 55: 0, 56: 0, 57: 1, 58: 0, 59: 0, 60: 0, 61: 0, 62: 1, 63: 0, 64: 0, 65: 0, 66: 0, 67: 0, 68: 0, 69: 1, 70: 0, 71: 0, 72: 0, 73: 0, 74: 0, 75: 0, 76: 0, 77: 0, 78: 0, 79: 0, 80: 0, 81: 0, 82: 0, 83: 0, 84: 0, 85: 0, 86: 0, 87: 1, 88: 0, 89: 0, 90: 0, 91: 0, 92: 0, 93: 0, 94: 0, 95: 0, 96: 0, 97: 0, 98: 0, 99: 0}\n"
     ]
    }
   ],
   "source": [
    "print(nx.get_node_attributes(G,attr))"
   ]
  },
  {
   "cell_type": "code",
   "execution_count": 16,
   "metadata": {},
   "outputs": [],
   "source": [
    "# node_states=nx.get_node_attributes(H,attr)\n",
    "# attr = 'state'\n",
    "# recover_list = []\n",
    "# c = 0"
   ]
  },
  {
   "cell_type": "code",
   "execution_count": 17,
   "metadata": {},
   "outputs": [],
   "source": [
    "\n",
    "# if c == 0:\n",
    "#     for v in H.nodes():\n",
    "#         if node_states[v]==0:\n",
    "#             for w in H[v]:\n",
    "#                 if H.nodes[w][attr]==1:\n",
    "#                     if random.random() < 0.5:\n",
    "#                         node_states[v]=1\n",
    "\n",
    "#                         print('the patient infected:', v)\n",
    "#                         break\n",
    "#     nx.set_node_attributes(H,node_states,attr)\n",
    "#     print(node_states)\n",
    "\n",
    "#     for i in H.nodes():\n",
    "#         if node_states[i]==1:\n",
    "#             for j in H[i]:\n",
    "#                 if random.random() < 0.8:\n",
    "#                     recover_list.append(i)\n",
    "#                     print('1the patient is recoverd:', recover_list)\n",
    "#                     break\n",
    "#     c = c  + 1\n",
    "\n",
    "# else:\n",
    "#     for p in recover_list:\n",
    "#         node_states[p]=0\n",
    "#         recover_list.remove(p)\n",
    "#     print('new recover:', recover_list)\n",
    "#     nx.set_node_attributes(H,node_states,attr)\n",
    "    \n",
    "#     for v in H.nodes():\n",
    "#         if node_states[v]==0:\n",
    "#             for w in H[v]:\n",
    "#                 if H.nodes[w][attr]==1:\n",
    "#                     if random.random() < 0.5:\n",
    "#                         node_states[v]=1\n",
    "\n",
    "#                         print('the patient infected:', v)\n",
    "#                         break\n",
    "#     nx.set_node_attributes(H,node_states,attr)\n",
    "    \n",
    "#     for i in H.nodes():\n",
    "#         if node_states[i]==1:\n",
    "#             for j in H[i]:\n",
    "#                 if random.random() < 0.8:\n",
    "#                     recover_list.append(i)\n",
    "#                     print('2the patient is recoverd:', recover_list)\n",
    "#                     break\n"
   ]
  },
  {
   "cell_type": "code",
   "execution_count": 19,
   "metadata": {},
   "outputs": [],
   "source": [
    "# print(node_states)"
   ]
  },
  {
   "cell_type": "markdown",
   "metadata": {},
   "source": [
    "#### b) Simulating the Spread (15 pts)\n",
    "\n",
    "Create two random networks, i.e., one Barabasi-Albert network, and one Erdos-Renyi network, both with 100 nodes and average degree $\\langle k \\rangle = 4$. Initialize both networks by (i) reducing the network to its biggest component, and (ii) setting one randomly chosen node to infected. For that purpose, create a node attribute called ```'state'```, which takes the value `0` if the corresponding individual is susceptible, and `1` otherwise. Save the resulting initial graphs into variables ``ER0`` for the initial Erdos-Renyi graph, and ``BA0`` for the initial Barabasi-Albert network.   \n",
    "For both networks, apply your implementation from a) with fixed value $\\mu = 0.8$, and varied $\\beta\\in \\{0.1,0.2,\\dots,0.9,1 \\}$ to simulate 50 timesteps of the spreading according to the SIS model. More precisely, for each value of $\\beta$, run one simulation per graph model of these 50 timesteps, starting at the initial graphs ``ER0`` and ``BA0``.  \n",
    "Plot the relative share of infected nodes in the graph over all timesteps, using one plot per graph model which includes all curves for the varied values of $\\beta$.  Save your plot for the ER model into a file called **'SIS_ER.png'**, and your plot for the Barabasi-Albert graph into a file **'SIS_BA.png'**.\n",
    "Provide some explanation and interpretation regarding the effect of varying $\\beta$, as well as on the differences between both graph models in cell __A1b)__!"
   ]
  },
  {
   "cell_type": "code",
   "execution_count": 20,
   "metadata": {},
   "outputs": [],
   "source": [
    "def initialize_graph(G, attr=\"state\"):\n",
    "    \"\"\"\n",
    "    :param G: networkx graph\n",
    "    :param attr: string specifying the node attribute \n",
    "    :\n",
    "    :return: resulting networkx graph\n",
    "    \"\"\"\n",
    "    # reducing the network to its biggest component\n",
    "    H = max(nx.connected_component_subgraphs(G), key=len)\n",
    "    intialization={node: 0 for node in G.nodes()} #susceptible\n",
    "    nx.set_node_attributes(H,intialization,attr)\n",
    "    patient_zero=random.choice(list(H.nodes())) #randomly select a node\n",
    "    H.nodes[patient_zero][attr]=1 #change its state to 1 - infected\n",
    "    return H"
   ]
  },
  {
   "cell_type": "code",
   "execution_count": 21,
   "metadata": {},
   "outputs": [],
   "source": [
    "BA = nx.barabasi_albert_graph(100,2)\n",
    "BA0 = initialize_graph(BA, 'state')"
   ]
  },
  {
   "cell_type": "code",
   "execution_count": 22,
   "metadata": {},
   "outputs": [
    {
     "name": "stdout",
     "output_type": "stream",
     "text": [
      "{0: 0, 1: 0, 2: 0, 3: 0, 4: 0, 5: 0, 6: 0, 7: 0, 8: 0, 9: 0, 10: 0, 11: 0, 12: 0, 13: 0, 14: 0, 15: 0, 16: 0, 17: 0, 18: 1, 19: 0, 20: 0, 21: 0, 22: 0, 23: 0, 24: 0, 25: 0, 26: 0, 27: 0, 28: 0, 29: 0, 30: 0, 31: 0, 32: 0, 33: 0, 34: 0, 35: 0, 36: 0, 37: 0, 38: 0, 39: 0, 40: 0, 41: 0, 42: 0, 43: 0, 44: 0, 45: 0, 46: 0, 47: 0, 48: 0, 49: 0, 50: 0, 51: 0, 52: 0, 53: 0, 54: 0, 55: 0, 56: 0, 57: 0, 58: 0, 59: 0, 60: 0, 61: 0, 62: 0, 63: 0, 64: 0, 65: 0, 66: 0, 67: 0, 68: 0, 69: 0, 70: 0, 71: 0, 72: 0, 73: 0, 74: 0, 75: 0, 76: 0, 77: 0, 78: 0, 79: 0, 80: 0, 81: 0, 82: 0, 83: 0, 84: 0, 85: 0, 86: 0, 87: 0, 88: 0, 89: 0, 90: 0, 91: 0, 92: 0, 93: 0, 94: 0, 95: 0, 96: 0, 97: 0, 98: 0, 99: 0}\n"
     ]
    }
   ],
   "source": [
    "print(nx.get_node_attributes(BA0,attr))"
   ]
  },
  {
   "cell_type": "code",
   "execution_count": null,
   "metadata": {},
   "outputs": [],
   "source": [
    "ER = nx.erdos_renyi_graph(100,4/99)\n",
    "ER0 = initialize_graph(ER,'state')"
   ]
  },
  {
   "cell_type": "code",
   "execution_count": null,
   "metadata": {},
   "outputs": [],
   "source": []
  },
  {
   "cell_type": "markdown",
   "metadata": {},
   "source": [
    "**A1b):** _Please provide your answers here!_"
   ]
  },
  {
   "cell_type": "markdown",
   "metadata": {},
   "source": [
    "### Task 2:  Temporal Network Analysis (75 pts)\n",
    "\n",
    "In the file home assignment task of the semester, we analyze a temporal and directed graph, namely the _UC Irvine messages_ network, which is provided as edge list in the file 'out.opsahl-ucsocial'. In this network, each node represents a person, and every directed edge represents a sent message. Every edge is also associated with a UNIX timestamp which indicates the time that the message has been sent, and in particular, there can be multiple edges between any two users - feel free to look into the README or meta-files as well.  \n",
    "Other than in all previous tasks, you now have to conduct your own analyses on the network. Pick three different aspects of the network which you are most interested in, and **analyze how these aspects are influenced by the temporal nature of the network**.\n",
    "To provide some examples on what you might look into, you could for instance look into how community structure changes over time, or how the degree distribution, link formation, or reciprocity is evolving over time.\n",
    "However, you have to make sure that your three analyses are looking into conceptually different aspects, e.g., you will not obtain full marks if you conduct one analysis on Eigenvector centrality and one analysis on Katz centrality.\n",
    "\n",
    "To obtain full marks, we expect the following:\n",
    "* You have to clearly specify and outline what aspects you are looking into, what assumptions you make, and how you approach your analyses. For instance, if within one of your analyses you consider an edge to be existent at a certain point in time only if the last message was within the last four weeks, you should clearly specify not only that you have done this, but also why you have made this assumption. Provide these outlines for each of your respective analyses in cells __A2.1a)__, __A2.2a)__, and __A2.3a)__.\n",
    "* Your code has to be structured or commented in a way that it is clear what it is doing with regard to your analyses.\n",
    "* For every analysis, you have to visualize and illustrate your findings in one plot. Make sure that each of your plots is easy to read and interpret - for instance, you should not use UNIX time (but rather actual days/months) if you include a temporal axis in your plot, or if you use scatter plots for degree distributions, you should use approprate bins. Save the plots for your first, second, and third analysis into files **'P1.png'**, **'P2.png'**, and **'P3.png'**, respectively! \n",
    "* In each of your analyses, you should describe and discuss the results that you have obtained and plotted, and provide a clear conclusion of your findings. It is not important to have surprising results, however if you obtain a result which aligns with your expectations, you should put this into context and explain why your finding is not surprising. Provide these descriptions and discussions for each of your respective analyses in cells __A2.1b)__, __A2.2b)__, and __A2.3b)__.\n",
    "\n",
    "\n",
    "__References:__  \n",
    "[1]\tUC Irvine messages network dataset -- KONECT, April 2017. [ http://konect.uni-koblenz.de/networks/opsahl-ucsocial ]  \n",
    "[2]\tTore Opsahl and Pietro Panzarasa. Clustering in weighted networks. Social Networks, 31(2):155-163, 2009.\n"
   ]
  },
  {
   "cell_type": "code",
   "execution_count": null,
   "metadata": {},
   "outputs": [],
   "source": [
    "# general preprocessing may go here"
   ]
  },
  {
   "cell_type": "markdown",
   "metadata": {},
   "source": [
    "**A2.1a):** _Please provide the outline of your first analysis here!_"
   ]
  },
  {
   "cell_type": "code",
   "execution_count": null,
   "metadata": {},
   "outputs": [],
   "source": []
  },
  {
   "cell_type": "code",
   "execution_count": null,
   "metadata": {},
   "outputs": [],
   "source": []
  },
  {
   "cell_type": "markdown",
   "metadata": {},
   "source": [
    "**A2.1b):** _Please provide the discussion of the results from your first analysis here!_"
   ]
  },
  {
   "cell_type": "markdown",
   "metadata": {},
   "source": [
    "**A2.2a):** _Please provide the outline of your second analysis here!_"
   ]
  },
  {
   "cell_type": "code",
   "execution_count": null,
   "metadata": {},
   "outputs": [],
   "source": []
  },
  {
   "cell_type": "code",
   "execution_count": null,
   "metadata": {},
   "outputs": [],
   "source": []
  },
  {
   "cell_type": "markdown",
   "metadata": {},
   "source": [
    "**A2.2b):** _Please provide the discussion of the results from your second analysis here!_"
   ]
  },
  {
   "cell_type": "markdown",
   "metadata": {},
   "source": [
    "**A2.3a)** _Please provide the outline of your third analysis here!_"
   ]
  },
  {
   "cell_type": "code",
   "execution_count": null,
   "metadata": {},
   "outputs": [],
   "source": []
  },
  {
   "cell_type": "code",
   "execution_count": null,
   "metadata": {},
   "outputs": [],
   "source": []
  },
  {
   "cell_type": "markdown",
   "metadata": {},
   "source": [
    "**A2.3b):** _Please provide the discussion of the results from your third analysis here!_"
   ]
  }
 ],
 "metadata": {
  "kernelspec": {
   "display_name": "Python 3",
   "language": "python",
   "name": "python3"
  },
  "language_info": {
   "codemirror_mode": {
    "name": "ipython",
    "version": 3
   },
   "file_extension": ".py",
   "mimetype": "text/x-python",
   "name": "python",
   "nbconvert_exporter": "python",
   "pygments_lexer": "ipython3",
   "version": "3.7.4"
  },
  "toc": {
   "base_numbering": 1,
   "nav_menu": {},
   "number_sections": true,
   "sideBar": true,
   "skip_h1_title": false,
   "title_cell": "Table of Contents",
   "title_sidebar": "Contents",
   "toc_cell": false,
   "toc_position": {},
   "toc_section_display": true,
   "toc_window_display": false
  }
 },
 "nbformat": 4,
 "nbformat_minor": 2
}
