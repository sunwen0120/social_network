{
 "cells": [
  {
   "cell_type": "code",
   "execution_count": 1,
   "metadata": {},
   "outputs": [],
   "source": [
    "# general immports may go here!\n",
    "import networkx as nx\n",
    "import numpy as np\n",
    "import matplotlib.pyplot as plt\n",
    "import math\n",
    "from typing import List, Optional, Tuple, Dict\n",
    "import networkx as nx\n",
    "import numpy as np\n",
    "import matplotlib.pyplot as plt\n",
    "import math\n",
    "import random"
   ]
  },
  {
   "cell_type": "code",
   "execution_count": 2,
   "metadata": {},
   "outputs": [],
   "source": [
    "def initialize_graph(G, attr=\"state\"):\n",
    "    \"\"\"\n",
    "    :param G: networkx graph\n",
    "    :param attr: string specifying the node attribute \n",
    "    :\n",
    "    :return: resulting networkx graph\n",
    "    \"\"\"\n",
    "    # reducing the network to its biggest component\n",
    "    H = max(nx.connected_component_subgraphs(G), key=len)\n",
    "    intialization={node: 0 for node in G.nodes()} #susceptible\n",
    "    nx.set_node_attributes(H,intialization,attr)\n",
    "    patient_zero=random.choice(list(H.nodes())) #randomly select a node\n",
    "    H.nodes[patient_zero][attr]=1 #change its state to 1 - infected\n",
    "    return H"
   ]
  },
  {
   "cell_type": "code",
   "execution_count": 3,
   "metadata": {},
   "outputs": [],
   "source": [
    "def spread_SIS(G: nx.Graph, beta: float, mu: float, attr: str=\"state\") -> nx.Graph:\n",
    "    \"\"\"\n",
    "    :param G: input networkx graph\n",
    "    :param beta: probability that an infected individual infects one of his neighbors\n",
    "    :param mu: probability that an infected individual has recovered at the next timestep\n",
    "    :param attr: string specifying the name of the node attribute which indicates whether \n",
    "    :            or not the corresponding individual is infected\n",
    "    :             -> should take value 0 if the corresponding individual susceptible, \n",
    "    :                and 1 if the individual is infected\n",
    "    :return: the resulting network after the disease has spread for one round\n",
    "    \"\"\"\n",
    "    \n",
    "    node_states=nx.get_node_attributes(G,attr)\n",
    "    \n",
    "    attr2 = 'recover'\n",
    "    def infected(G,attr,node_states,beta):   \n",
    "        for v in G.nodes():\n",
    "            if node_states[v]==0:\n",
    "                for w in G[v]:\n",
    "                    if G.nodes[w][attr]==1:\n",
    "                        if random.random() < beta:\n",
    "                            node_states[v]=1\n",
    "                            print('the patient infected:', v)\n",
    "                            break\n",
    "        nx.set_node_attributes(G,node_states,attr)\n",
    "\n",
    "    def get_recover_patient(G, mu, node_states, attr2):\n",
    "        node_recover = nx.get_node_attributes(G,attr2)\n",
    "        for i in G.nodes():\n",
    "            if node_states[i]==1:\n",
    "                a = random.random()\n",
    "                print('p:', a)\n",
    "                if a < mu:\n",
    "                    node_recover[i]=1\n",
    "                else:\n",
    "                    node_recover[i]=0\n",
    "        nx.set_node_attributes(G,node_states,attr2)\n",
    "#         recover_list =[x for x,y in G.nodes(data=True) if y['recover'] == 1]\n",
    "#         print('recover list:', recover_list)\n",
    "\n",
    "   \n",
    "    def change_infected_into_recover(G,node_states,attr,attr2):\n",
    "        node_recover = nx.get_node_attributes(G,attr2)\n",
    "        for x in G.nodes():\n",
    "            if node_recover[x] == 1:\n",
    "                node_states[x]=0\n",
    "#         print('actually recover:', recover_list)\n",
    "        recover_list =[x for x,y in G.nodes(data=True) if y['recover'] == 1]\n",
    "        print('recover list:', recover_list)\n",
    "        nx.set_node_attributes(G,node_states,attr)\n",
    "        return G\n",
    "        \n",
    "    infected(G, attr, node_states, beta)\n",
    "    get_recover_patient(G, mu, node_states, attr2)\n",
    "    change_infected_into_recover(G,node_states,attr, attr2)\n",
    "    \n",
    "#     recover_num = len([x for x,y in G.nodes(data=True) if y['recover'] == 0])\n",
    "#     if recover_num == 100:\n",
    "#         infected(G, attr, node_states, beta)\n",
    "#         list_recover = get_recover_patient(G, mu, node_states, attr2)\n",
    "#     else:\n",
    "        \n",
    "#         change_infected_into_recover(G,node_states,list_recover,attr)\n",
    "#         infected(G, attr, node_states, beta)\n",
    "#         list_recover = get_recover_patient(G, mu, node_states, attr2)\n",
    "    \n",
    "    \n",
    "    return G"
   ]
  },
  {
   "cell_type": "code",
   "execution_count": 4,
   "metadata": {},
   "outputs": [
    {
     "name": "stdout",
     "output_type": "stream",
     "text": [
      "[(0, {'state': 0, 'recover': 0}), (1, {'state': 0, 'recover': 0}), (2, {'state': 0, 'recover': 0}), (3, {'state': 0, 'recover': 0}), (4, {'state': 0, 'recover': 0}), (5, {'state': 0, 'recover': 0}), (6, {'state': 0, 'recover': 0}), (7, {'state': 0, 'recover': 0}), (8, {'state': 1, 'recover': 0}), (9, {'state': 0, 'recover': 0})]\n"
     ]
    }
   ],
   "source": [
    "BA = nx.barabasi_albert_graph(10,2)\n",
    "BA0 = initialize_graph(BA, 'state')\n",
    "BA0_new = nx.set_node_attributes(BA0, name = 'recover',values =0)\n",
    "label = nx.get_node_attributes(BA0,'recover')\n",
    "print(BA0.node(data=True))"
   ]
  },
  {
   "cell_type": "code",
   "execution_count": 5,
   "metadata": {},
   "outputs": [],
   "source": [
    "H = BA0.copy()\n"
   ]
  },
  {
   "cell_type": "code",
   "execution_count": 6,
   "metadata": {},
   "outputs": [
    {
     "name": "stdout",
     "output_type": "stream",
     "text": [
      "the patient infected: 3\n",
      "the patient infected: 6\n",
      "p: 0.11186860375061836\n",
      "p: 0.7557762508271718\n",
      "p: 0.3589986294620966\n",
      "recover list: [3, 6, 8]\n",
      "[(0, {'state': 0, 'recover': 0}), (1, {'state': 0, 'recover': 0}), (2, {'state': 0, 'recover': 0}), (3, {'state': 0, 'recover': 1}), (4, {'state': 0, 'recover': 0}), (5, {'state': 0, 'recover': 0}), (6, {'state': 0, 'recover': 1}), (7, {'state': 0, 'recover': 0}), (8, {'state': 0, 'recover': 1}), (9, {'state': 0, 'recover': 0})]\n"
     ]
    }
   ],
   "source": [
    "spread_SIS(H,0.5, 0.2, 'state')\n",
    "print(H.node(data=True))"
   ]
  },
  {
   "cell_type": "code",
   "execution_count": 7,
   "metadata": {},
   "outputs": [],
   "source": [
    "# infected(H,'state', 0.5)\n",
    "# print(H.node(data=True))"
   ]
  },
  {
   "cell_type": "code",
   "execution_count": 8,
   "metadata": {},
   "outputs": [],
   "source": [
    "# get_recover_patient(H,0.8,'state','recover')\n",
    "# print(H.node(data=True))"
   ]
  },
  {
   "cell_type": "code",
   "execution_count": null,
   "metadata": {},
   "outputs": [],
   "source": []
  }
 ],
 "metadata": {
  "kernelspec": {
   "display_name": "Python 3",
   "language": "python",
   "name": "python3"
  },
  "language_info": {
   "codemirror_mode": {
    "name": "ipython",
    "version": 3
   },
   "file_extension": ".py",
   "mimetype": "text/x-python",
   "name": "python",
   "nbconvert_exporter": "python",
   "pygments_lexer": "ipython3",
   "version": "3.7.4"
  },
  "toc": {
   "base_numbering": 1,
   "nav_menu": {},
   "number_sections": true,
   "sideBar": true,
   "skip_h1_title": false,
   "title_cell": "Table of Contents",
   "title_sidebar": "Contents",
   "toc_cell": false,
   "toc_position": {},
   "toc_section_display": true,
   "toc_window_display": false
  }
 },
 "nbformat": 4,
 "nbformat_minor": 2
}
